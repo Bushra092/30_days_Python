{
 "cells": [
  {
   "cell_type": "markdown",
   "id": "73c543e8",
   "metadata": {},
   "source": [
    "### 🎯 Challenge\n",
    "- **Download multiple files concurrently using ***threads*****"
   ]
  },
  {
   "cell_type": "code",
   "execution_count": 52,
   "id": "80225d2d",
   "metadata": {},
   "outputs": [
    {
     "name": "stdout",
     "output_type": "stream",
     "text": [
      "Output Screen\n",
      "\n",
      "___________________________________________\n",
      "\n",
      "Without Thread File Dowloading Started\n",
      " Python - Downloaded\n",
      " SQL - Downloaded\n",
      "Done in  4.029236793518066\n",
      "___________________________________________\n",
      "\n",
      "With Thread File Dowloading Started \n",
      " Python - Downloaded SQl - Downloaded\n",
      "\n",
      "Done in  2.019195795059204\n"
     ]
    }
   ],
   "source": [
    "import threading\n",
    "import time\n",
    "\n",
    "def dowloadFile(filename, num):\n",
    "    for i in range(num):         \n",
    "        time.sleep(0.2)\n",
    "        # print(f'dowloading file: {filename} - {i}')\n",
    "    print(f' {filename} - Downloaded')  \n",
    "\n",
    "#? ______________________________________________________\n",
    "\n",
    "print('Output Screen')\n",
    "print('\\n___________________________________________\\n')\n",
    "print('Without Thread File Dowloading Started') \n",
    "\n",
    "tStart = time.time() \n",
    "dowloadFile('Python', 10)\n",
    "dowloadFile('SQL', 10)\n",
    "\n",
    "print('Done in ', time.time() - tStart)   \n",
    "\n",
    "print('___________________________________________\\n')\n",
    "\n",
    "#? ______________________________________________________\n",
    "\n",
    "tStart = time.time()     \n",
    "\n",
    "t1 = threading.Thread(target = dowloadFile , args=('Python', 10))\n",
    "t2 = threading.Thread(target = dowloadFile , args=('SQl', 10))\n",
    "\n",
    "print('With Thread File Dowloading Started ') \n",
    "\n",
    "t1.start()\n",
    "t2.start()\n",
    "\n",
    "t1.join()\n",
    "t2.join()\n",
    "print('Done in ', time.time() - tStart) \n"
   ]
  },
  {
   "cell_type": "code",
   "execution_count": null,
   "id": "52574e23",
   "metadata": {},
   "outputs": [],
   "source": []
  }
 ],
 "metadata": {
  "kernelspec": {
   "display_name": ".venv",
   "language": "python",
   "name": "python3"
  },
  "language_info": {
   "name": "python",
   "version": "3.13.0"
  }
 },
 "nbformat": 4,
 "nbformat_minor": 5
}
