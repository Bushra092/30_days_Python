{
 "cells": [
  {
   "cell_type": "markdown",
   "id": "8333ec99",
   "metadata": {},
   "source": [
    "#### 🎯 **Challenge**\n",
    "-  Enforce a naming convention with a **metaclass**"
   ]
  },
  {
   "cell_type": "code",
   "execution_count": 83,
   "id": "5d08094f",
   "metadata": {},
   "outputs": [
    {
     "name": "stdout",
     "output_type": "stream",
     "text": [
      "\t\t\t\t\t\tBefore naming Conversation\n",
      " dict_keys(['__module__', '__qualname__', '__firstlineno__', '__init__', 'present_Today', 'stud_type', '__static_attributes__'])\n",
      "\n",
      "\t\t\t\t\t\tAfter naming Conversation\n",
      " dict_keys(['__module__', '__qualname__', '__firstlineno__', '__init__', 'PRESENT_TODAY', 'STUD_TYPE', '__static_attributes__'])\n"
     ]
    }
   ],
   "source": [
    "\n",
    "#! 🎯Challenge\n",
    "#? -  Enforce a naming convention with a **metaclass**\n",
    "\n",
    "class naming_Conversation(type):\n",
    "    def __new__(self, class_name, bases,attrs):\n",
    "        print('\\t\\t\\t\\t\\t\\tBefore naming Conversation\\n',attrs.keys())  \n",
    "        a = {}\n",
    "        for name , value in attrs.items(): \n",
    "            if name.startswith('__'):\n",
    "                a[name] = value\n",
    "            else:\n",
    "                a[name.upper()] = value   \n",
    "        \n",
    "        print('\\n\\t\\t\\t\\t\\t\\tAfter naming Conversation\\n',a.keys())        \n",
    "        return type(class_name, bases, a)\n",
    "    \n",
    "# class myClass1(metaclass= naming_convention):\n",
    "class myClass1(metaclass= naming_Conversation): \n",
    "    def __init__(self, name,s_type, present):\n",
    "        self.name = name\n",
    "        self.sType = s_type\n",
    "        self.present = present\n",
    "\n",
    "    def present_Today(self):\n",
    "        if self.present.lower() == 'yes':\n",
    "            print(f'Present {self.name}')\n",
    "\n",
    "    def stud_type(self):\n",
    "        print(f'Type {self.sType}') \n",
    "        \n",
    "stud1 = myClass1('Bushra', 'Regular', 'YES')"
   ]
  },
  {
   "cell_type": "markdown",
   "id": "63c7479b",
   "metadata": {},
   "source": [
    "### OUTPUT"
   ]
  },
  {
   "cell_type": "code",
   "execution_count": 84,
   "id": "e3307b7d",
   "metadata": {},
   "outputs": [
    {
     "name": "stdout",
     "output_type": "stream",
     "text": [
      "Present Bushra\n",
      "Type Regular\n"
     ]
    },
    {
     "ename": "AttributeError",
     "evalue": "'myClass1' object has no attribute 'present_Today'",
     "output_type": "error",
     "traceback": [
      "\u001b[31m---------------------------------------------------------------------------\u001b[39m",
      "\u001b[31mAttributeError\u001b[39m                            Traceback (most recent call last)",
      "\u001b[36mCell\u001b[39m\u001b[36m \u001b[39m\u001b[32mIn[84]\u001b[39m\u001b[32m, line 3\u001b[39m\n\u001b[32m      1\u001b[39m stud1.PRESENT_TODAY()\n\u001b[32m      2\u001b[39m stud1.STUD_TYPE()\n\u001b[32m----> \u001b[39m\u001b[32m3\u001b[39m \u001b[43mstud1\u001b[49m\u001b[43m.\u001b[49m\u001b[43mpresent_Today\u001b[49m()\n\u001b[32m      4\u001b[39m stud1.stud_type()\n",
      "\u001b[31mAttributeError\u001b[39m: 'myClass1' object has no attribute 'present_Today'"
     ]
    }
   ],
   "source": [
    "\n",
    "stud1.PRESENT_TODAY()\n",
    "stud1.STUD_TYPE()\n",
    "stud1.present_Today()\n",
    "# stud1.stud_type()"
   ]
  },
  {
   "cell_type": "code",
   "execution_count": null,
   "id": "3abaef8b",
   "metadata": {},
   "outputs": [],
   "source": []
  }
 ],
 "metadata": {
  "kernelspec": {
   "display_name": ".venv",
   "language": "python",
   "name": "python3"
  },
  "language_info": {
   "codemirror_mode": {
    "name": "ipython",
    "version": 3
   },
   "file_extension": ".py",
   "mimetype": "text/x-python",
   "name": "python",
   "nbconvert_exporter": "python",
   "pygments_lexer": "ipython3",
   "version": "3.13.0"
  }
 },
 "nbformat": 4,
 "nbformat_minor": 5
}
