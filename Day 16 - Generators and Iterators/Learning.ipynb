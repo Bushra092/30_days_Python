{
 "cells": [
  {
   "cell_type": "markdown",
   "id": "b27a3186",
   "metadata": {},
   "source": [
    "### **Generators** and **Iterators**"
   ]
  },
  {
   "cell_type": "code",
   "execution_count": 6,
   "id": "0992097a",
   "metadata": {},
   "outputs": [],
   "source": [
    "def remote_control_next():\n",
    "    yield \"cnn\"\n",
    "    yield \"esp\"\n"
   ]
  },
  {
   "cell_type": "code",
   "execution_count": 7,
   "id": "72e4c0c5",
   "metadata": {},
   "outputs": [
    {
     "data": {
      "text/plain": [
       "<generator object remote_control_next at 0x000001CD8B89C3B0>"
      ]
     },
     "execution_count": 7,
     "metadata": {},
     "output_type": "execute_result"
    }
   ],
   "source": [
    "itr = remote_control_next()\n",
    "itr"
   ]
  },
  {
   "cell_type": "code",
   "execution_count": 8,
   "id": "a61e709c",
   "metadata": {},
   "outputs": [
    {
     "data": {
      "text/plain": [
       "'cnn'"
      ]
     },
     "execution_count": 8,
     "metadata": {},
     "output_type": "execute_result"
    }
   ],
   "source": [
    "next(itr)"
   ]
  },
  {
   "cell_type": "code",
   "execution_count": 9,
   "id": "a2761490",
   "metadata": {},
   "outputs": [
    {
     "data": {
      "text/plain": [
       "'esp'"
      ]
     },
     "execution_count": 9,
     "metadata": {},
     "output_type": "execute_result"
    }
   ],
   "source": [
    "next(itr)"
   ]
  },
  {
   "cell_type": "code",
   "execution_count": 10,
   "id": "30463fd7",
   "metadata": {},
   "outputs": [
    {
     "name": "stdout",
     "output_type": "stream",
     "text": [
      "cnn\n",
      "esp\n"
     ]
    }
   ],
   "source": [
    "for c in remote_control_next():\n",
    "    print(c)\n"
   ]
  },
  {
   "cell_type": "code",
   "execution_count": null,
   "id": "be934eda",
   "metadata": {},
   "outputs": [],
   "source": []
  }
 ],
 "metadata": {
  "kernelspec": {
   "display_name": ".venv",
   "language": "python",
   "name": "python3"
  },
  "language_info": {
   "codemirror_mode": {
    "name": "ipython",
    "version": 3
   },
   "file_extension": ".py",
   "mimetype": "text/x-python",
   "name": "python",
   "nbconvert_exporter": "python",
   "pygments_lexer": "ipython3",
   "version": "3.13.0"
  }
 },
 "nbformat": 4,
 "nbformat_minor": 5
}
