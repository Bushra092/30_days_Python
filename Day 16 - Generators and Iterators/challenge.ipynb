{
 "cells": [
  {
   "cell_type": "markdown",
   "id": "aea618f6",
   "metadata": {},
   "source": [
    "### 🎯 Challenge\n",
    "-  Generate the first n Fibonacci numbers with a **generator**"
   ]
  },
  {
   "cell_type": "code",
   "execution_count": null,
   "id": "34d0a159",
   "metadata": {},
   "outputs": [
    {
     "name": "stdout",
     "output_type": "stream",
     "text": [
      "Please Enter a positive number - Not Allowed : -50\n"
     ]
    }
   ],
   "source": [
    "\n",
    "def isnum(userInput):      # Chechking for userInput is digit or not\n",
    "    try:\n",
    "        intNum = int(userInput)\n",
    "\n",
    "        if intNum <= 0 :   # As Fibonanci start with 0 and 1\n",
    "            print('Please Enter a positive number - Not Allowed :',userInput)\n",
    "            \n",
    "        else:\n",
    "            return intNum\n",
    "    except Exception as e:  # If user_input is <=0 or alphabets\n",
    "        print(\"Invalid literal:\", userInput)  \n",
    "\n",
    "def fiboSeries():  # Fibonacci series with a generator\n",
    "    a, b = 0, 1\n",
    "    while True:\n",
    "        yield a    \n",
    "        a, b = b, a+b  \n",
    "\n",
    "def mainFun():\n",
    "    user_num = input(\"Enter a number to Generate Fibonacci Series \")\n",
    "    checknum = isnum(user_num) \n",
    "\n",
    "    if checknum is None:\n",
    "        return None\n",
    "    \n",
    "    for i in fiboSeries(): \n",
    "# Condition if i become checknum end it as i -- 0 1 1 2 3 \n",
    "# 3<5 but 8 is not so condition become #!False\n",
    "        if i < checknum: \n",
    "            print(i)\n",
    "        else:\n",
    "            break\n",
    "        \n",
    "mainFun()\n",
    "print('Execution ✅ \\n ')"
   ]
  }
 ],
 "metadata": {
  "kernelspec": {
   "display_name": ".venv",
   "language": "python",
   "name": "python3"
  },
  "language_info": {
   "codemirror_mode": {
    "name": "ipython",
    "version": 3
   },
   "file_extension": ".py",
   "mimetype": "text/x-python",
   "name": "python",
   "nbconvert_exporter": "python",
   "pygments_lexer": "ipython3",
   "version": "3.13.0"
  }
 },
 "nbformat": 4,
 "nbformat_minor": 5
}
