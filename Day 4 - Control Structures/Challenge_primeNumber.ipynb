{
 "cells": [
  {
   "cell_type": "markdown",
   "id": "08c405cf",
   "metadata": {},
   "source": [
    "🎯 Challenge\n",
    "- Check if a user-entered number is prime"
   ]
  },
  {
   "cell_type": "code",
   "execution_count": 3,
   "id": "a171b04d",
   "metadata": {},
   "outputs": [
    {
     "name": "stdout",
     "output_type": "stream",
     "text": [
      "237 is not prime\n"
     ]
    }
   ],
   "source": [
    "user_input = int(input(\"Enter a number to check Prime pr not? \")) # 121\n",
    "\n",
    "if user_input < 2:\n",
    "    print(f\"{user_input} is not prime\")\n",
    "elif user_input % 2 == 0:\n",
    "    print(f\"{user_input} is prime\") \n",
    "else:\n",
    "    is_prime = True\n",
    "    for i in range(3, user_input//2 ,2):     \n",
    "        if(user_input % i == 0): \n",
    "            # print(user_input,i, user_input%i)   #condition to check if number is prime or not\n",
    "            is_prime = False\n",
    "            break\n",
    "\n",
    "    if is_prime:\n",
    "        print(f\"{user_input} is prime\")\n",
    "    else:\n",
    "       print(f\"{user_input} is not prime\")              \n",
    "\n"
   ]
  }
 ],
 "metadata": {
  "kernelspec": {
   "display_name": ".venv",
   "language": "python",
   "name": "python3"
  },
  "language_info": {
   "codemirror_mode": {
    "name": "ipython",
    "version": 3
   },
   "file_extension": ".py",
   "mimetype": "text/x-python",
   "name": "python",
   "nbconvert_exporter": "python",
   "pygments_lexer": "ipython3",
   "version": "3.13.0"
  }
 },
 "nbformat": 4,
 "nbformat_minor": 5
}
