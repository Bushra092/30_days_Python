{
 "cells": [
  {
   "cell_type": "markdown",
   "id": "a127b02d",
   "metadata": {},
   "source": [
    "🎯 Challenge\n",
    "- Calculate factorial recursively"
   ]
  },
  {
   "cell_type": "code",
   "execution_count": 8,
   "id": "72e63c8c",
   "metadata": {},
   "outputs": [
    {
     "name": "stdout",
     "output_type": "stream",
     "text": [
      "6\n"
     ]
    }
   ],
   "source": [
    "def factorial(num):\n",
    "    if num == 0 or num == 1:\n",
    "        return 1\n",
    "\n",
    "    return num *  factorial(num-1)    \n",
    "\n",
    "\n",
    "print(factorial(3))\n"
   ]
  },
  {
   "cell_type": "code",
   "execution_count": null,
   "id": "dc23fda2",
   "metadata": {},
   "outputs": [],
   "source": []
  }
 ],
 "metadata": {
  "kernelspec": {
   "display_name": ".venv",
   "language": "python",
   "name": "python3"
  },
  "language_info": {
   "codemirror_mode": {
    "name": "ipython",
    "version": 3
   },
   "file_extension": ".py",
   "mimetype": "text/x-python",
   "name": "python",
   "nbconvert_exporter": "python",
   "pygments_lexer": "ipython3",
   "version": "3.13.0"
  }
 },
 "nbformat": 4,
 "nbformat_minor": 5
}
