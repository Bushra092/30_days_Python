{
 "cells": [
  {
   "cell_type": "markdown",
   "id": "a6a6651c",
   "metadata": {},
   "source": [
    "### **Variables & Data Types** ###\n",
    "🗒️ Topics\n",
    "- Integers, floats, strings, booleans, type conversion"
   ]
  },
  {
   "cell_type": "code",
   "execution_count": 17,
   "id": "8f0b288b",
   "metadata": {},
   "outputs": [
    {
     "name": "stdout",
     "output_type": "stream",
     "text": [
      "Integer: a = 5.0, \n",
      "Float: b = 3,\n",
      "String c: Hello, World!, \n",
      "Boolean: d = True\n",
      "Converted Integer: b = 3, \n",
      "Converted Float: a = 5.0, \n",
      "Converted String: a =  5.0\n",
      "As we conveted a = 5.05.0\n"
     ]
    }
   ],
   "source": [
    "## - Integers, floats, strings, booleans, type conversion\n",
    "\n",
    "a = 5  # Integer\n",
    "b = 3.14  # Float\n",
    "c = \"Hello, World!\"  # String\n",
    "d = True  # Boolean\n",
    "# Type conversion\n",
    "b = int(b)  # Convert float to integer\n",
    "a = float(a)  # Convert integer to float\n",
    "a = str(a)  # Convert integer to string\n",
    "\n",
    "# Print the variables\n",
    "print(f\"Integer: a = {a}, \\nFloat: b = {b},\\nString c: {c}, \\nBoolean: d = {d}\")\n",
    "print(f\"Converted Integer: b = {b}, \\nConverted Float: a = {a}, \\nConverted String: a =  {a}\")\n",
    "print(f'As we conveted a = {a+a}')\n"
   ]
  }
 ],
 "metadata": {
  "kernelspec": {
   "display_name": ".venv",
   "language": "python",
   "name": "python3"
  },
  "language_info": {
   "codemirror_mode": {
    "name": "ipython",
    "version": 3
   },
   "file_extension": ".py",
   "mimetype": "text/x-python",
   "name": "python",
   "nbconvert_exporter": "python",
   "pygments_lexer": "ipython3",
   "version": "3.13.0"
  }
 },
 "nbformat": 4,
 "nbformat_minor": 5
}
