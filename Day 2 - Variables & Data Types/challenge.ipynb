{
 "cells": [
  {
   "cell_type": "markdown",
   "id": "40df12fd",
   "metadata": {},
   "source": [
    "Challenge"
   ]
  },
  {
   "cell_type": "code",
   "execution_count": 3,
   "id": "e1501961",
   "metadata": {},
   "outputs": [
    {
     "name": "stdout",
     "output_type": "stream",
     "text": [
      "The length of the rectangle is: 12.4\n",
      "The width of the rectangle is: 16.4\n",
      "The area of the rectangle is: 203.36\n"
     ]
    }
   ],
   "source": [
    "length = float(input(\"Enter the length of the rectangle: \"))  # Input for length\n",
    "width = float(input(\"Enter the width of the rectangle: \"))  # Input for width\n",
    "\n",
    "print(f\"The length of the rectangle is: {length}\")  # Print the length\n",
    "print(f\"The width of the rectangle is: {width}\")  # Print the width\n",
    "\n",
    "print(f\"The area of the rectangle is: {round(length * width,2)}\")  # Calculate and print the area"
   ]
  },
  {
   "cell_type": "code",
   "execution_count": null,
   "id": "7406544d",
   "metadata": {},
   "outputs": [],
   "source": []
  }
 ],
 "metadata": {
  "kernelspec": {
   "display_name": ".venv",
   "language": "python",
   "name": "python3"
  },
  "language_info": {
   "codemirror_mode": {
    "name": "ipython",
    "version": 3
   },
   "file_extension": ".py",
   "mimetype": "text/x-python",
   "name": "python",
   "nbconvert_exporter": "python",
   "pygments_lexer": "ipython3",
   "version": "3.13.0"
  }
 },
 "nbformat": 4,
 "nbformat_minor": 5
}
