{
 "cells": [
  {
   "cell_type": "markdown",
   "id": "da01ee31",
   "metadata": {},
   "source": [
    "### **Dates and Times Object**"
   ]
  },
  {
   "cell_type": "markdown",
   "id": "d81de288",
   "metadata": {},
   "source": [
    "The `datetime` module in Python is super useful when you're dealing with **dates and times** — especially for tasks like calculating durations, timestamps, deadlines, or formatting logs. \n",
    "\n",
    " These functions allow you to **work with dates, times, durations, and formatting**, which is essential for applications in fields like data analysis, scheduling, logging, time series analysis, automation, and more.\n",
    "\n",
    "_______________________________________________________________________\n",
    "\n",
    "## 🔹 What is `datetime` in Python?\n",
    "\n",
    "`datetime` is a **built-in module** in Python used to **work with dates and times**.\n",
    "\n",
    "You can use it to:\n",
    "\n",
    "* Get the current date or time.\n",
    "* Format or convert dates.\n",
    "* Calculate differences between dates or times.\n",
    "* Parse strings into dates.\n",
    "\n",
    "\n",
    "_______________________________________________________________________\n",
    "\n",
    "\n",
    "## 🔹 Important Components of `datetime`\n",
    "\n",
    "```python\n",
    "from datetime import date, time, datetime, timedelta\n",
    "```\n",
    "\n",
    "| Component   | Purpose                        | Example                           |\n",
    "| ----------- | ------------------------------ | --------------------------------- |\n",
    "| `date`      | Represents a calendar date     | `date(2024, 12, 25)`              |\n",
    "| `time`      | Represents time (hour, minute) | `time(14, 30)`                    |\n",
    "| `datetime`  | Combines date and time         | `datetime(2024, 12, 25, 14, 30)`  |\n",
    "| `timedelta` | Represents a duration (diff)   | `date1 - date2` returns timedelta |\n",
    "\n",
    "\n",
    "\n",
    "\n",
    "\n",
    "\n",
    "\n",
    "\n",
    "\n",
    "## 🔹 Most Commonly Used Date and Time Functions in Python\n",
    "\n",
    "| Function/Class        | Description                                   | Example                                        | Real-Time Use                  |\n",
    "| --------------------- | --------------------------------------------- | ---------------------------------------------- | ------------------------------ |\n",
    "| `datetime.now()`      | Returns current date and time                 | `datetime.now()` → `2025-06-07 12:45:00`       | Logging current activity time  |\n",
    "| `datetime.today()`    | Returns today’s date with time                | `datetime.today()` → `2025-06-07 12:45:00`     | Timestamp for new record       |\n",
    "| `date.today()`        | Returns today’s date only                     | `date.today()` → `2025-06-07`                  | Marking deadlines              |\n",
    "| `datetime.strptime()` | Converts string to datetime object            | `datetime.strptime('2025-06-07', '%Y-%m-%d')`  | Parsing date inputs from forms |\n",
    "| `datetime.strftime()` | Converts datetime to string format            | `now.strftime('%d-%m-%Y')` → `'07-06-2025'`    | Displaying readable dates      |\n",
    "| `timedelta`           | Represents difference between two dates/times | `timedelta(days=5)`                            | Scheduling reminders or expiry |\n",
    "| `datetime.combine()`  | Combines date and time into datetime          | `datetime.combine(date.today(), time(14, 30))` | Event creation time            |\n",
    "| `datetime.replace()`  | Replaces parts of a datetime object           | `dt.replace(year=2026)`                        | Updating timestamps            |\n",
    "| `datetime.weekday()`  | Returns weekday (0=Monday)                    | `date.today().weekday()` → `5` (Saturday)      | Automating tasks on weekdays   |\n",
    "\n",
    "\n",
    "\n",
    "\n",
    "\n",
    "## 🔸 Real-Time Applications\n",
    "\n",
    "| Application Area          | How DateTime Helps                       |\n",
    "| ------------------------   | ---------------------------------------- |\n",
    "| ✅ **Data Analytics**     | Time series analysis, trend by month/day |\n",
    "| ✅ **Web Applications**   | User session tracking, booking dates     |\n",
    "| ✅ **Reminder Systems**   | Notify based on `timedelta`              |\n",
    "| ✅ **E-commerce**         | Coupon expiry, delivery time calculation |\n",
    "| ✅ **Banking**            | Interest calculation over time           |\n",
    "| ✅ **Attendance Systems** | Time-in/time-out comparisons             |\n",
    "\n",
    "\n",
    "\n",
    "\n"
   ]
  },
  {
   "cell_type": "markdown",
   "id": "c1724b47",
   "metadata": {},
   "source": [
    "In Python, **date and time functions** are part of the built-in `datetime` module.\n",
    "\n",
    "\n",
    "\n",
    "#### 🔹 Importing datetime module\n",
    "\n",
    "```python\n",
    "import datetime\n",
    "```\n",
    "\n",
    "You can also import specific classes:\n",
    "\n",
    "```python\n",
    "from datetime import datetime, date, time, timedelta\n",
    "```\n",
    "\n",
    "\n",
    "\n",
    "\n",
    "\n",
    "\n",
    "### 🔹 Examples of Common Usage\n",
    "\n",
    "#### 1. **Current date and time**\n",
    "\n",
    "```python\n",
    "from datetime import datetime\n",
    "now = datetime.now()\n",
    "print(now)  # 2025-06-07 12:45:00\n",
    "```\n",
    "\n",
    "📌 *Used in log files, audit trails, dashboards.*\n",
    "\n",
    "\n",
    "\n",
    "#### 2. **Format datetime to string**\n",
    "\n",
    "```python\n",
    "print(now.strftime(\"%d-%b-%Y %H:%M\"))  # '07-Jun-2025 12:45'\n",
    "```\n",
    "\n",
    "📌 *Used to display date in UI, reports.*\n",
    "\n",
    "\n",
    "\n",
    "#### 3. **Convert string to datetime**\n",
    "\n",
    "```python\n",
    "date_str = '2025-06-07'\n",
    "date_obj = datetime.strptime(date_str, \"%Y-%m-%d\")\n",
    "print(date_obj)  # 2025-06-07 00:00:00\n",
    "```\n",
    "\n",
    "📌 *Used for processing user input, CSV data.*\n",
    "\n",
    "\n",
    "\n",
    "#### 4. **Get today's date**\n",
    "\n",
    "```python\n",
    "from datetime import date\n",
    "print(date.today())  # 2025-06-07\n",
    "```\n",
    "\n",
    "📌 *Used in comparison, filtering today’s entries.*\n",
    "\n",
    "\n",
    "\n",
    "#### 5. **Date difference using timedelta**\n",
    "\n",
    "```python\n",
    "from datetime import timedelta\n",
    "future_date = date.today() + timedelta(days=7)\n",
    "print(future_date)  # 2025-06-14\n",
    "```\n",
    "\n",
    "📌 *Used for expiry alerts, scheduling follow-ups.*\n",
    "\n",
    "\n",
    "\n",
    "#### 6. **Check day of the week**\n",
    "\n",
    "```python\n",
    "day_index = date.today().weekday()\n",
    "days = [\"Monday\", \"Tuesday\", \"Wednesday\", \"Thursday\", \"Friday\", \"Saturday\", \"Sunday\"]\n",
    "print(days[day_index])  # 'Saturday'\n",
    "```\n",
    "\n",
    "📌 *Used to automate tasks only on weekdays/weekends.*\n",
    "\n",
    "\n",
    "\n",
    "#### 7. **Replace part of a datetime**\n",
    "\n",
    "```python\n",
    "updated = now.replace(hour=9, minute=0)\n",
    "print(updated)  # 2025-06-07 09:00:00\n",
    "```\n",
    "\n",
    "📌 *Used for setting meetings/reminders at fixed time.*\n",
    "\n",
    "\n",
    "\n",
    "\n"
   ]
  },
  {
   "cell_type": "code",
   "execution_count": 1,
   "id": "efbe2d74",
   "metadata": {},
   "outputs": [],
   "source": [
    "import datetime"
   ]
  },
  {
   "cell_type": "code",
   "execution_count": null,
   "id": "be0f5edf",
   "metadata": {},
   "outputs": [
    {
     "name": "stdout",
     "output_type": "stream",
     "text": [
      "2025-01-16\n",
      "2025-06-07\n",
      "12:30:00\n",
      "2025-06-07 01:01:32.430942\n"
     ]
    },
    {
     "data": {
      "text/plain": [
       "'01:01:32 06-07-2025'"
      ]
     },
     "execution_count": 16,
     "metadata": {},
     "output_type": "execute_result"
    }
   ],
   "source": [
    "date = datetime.date(2025,1,16)\n",
    "print(date)\n",
    "\n",
    "today = datetime.date.today()\n",
    "print(today)\n",
    "\n",
    "time =datetime.time(12,30,0)\n",
    "print(time)\n",
    "\n",
    "curr_time = datetime.datetime.now()\n",
    "print(curr_time)  #? 2025-06-07 00:57:59.098196\n",
    "\n",
    "#? To fprmate appeance of date\n",
    "now1 = curr_time.strftime(\"%H:%M:%S %m-%d-%Y\")\n",
    "now1\n"
   ]
  },
  {
   "cell_type": "code",
   "execution_count": 23,
   "id": "470b4917",
   "metadata": {},
   "outputs": [
    {
     "name": "stdout",
     "output_type": "stream",
     "text": [
      "2025-01-16\n",
      "2025-06-07\n",
      "12:30:45\n",
      "2025-06-07 20:08:22.477716\n",
      "20:08:22  07-06-2025\n",
      "Target Date has passed\n"
     ]
    },
    {
     "data": {
      "text/plain": [
       "datetime.date(2025, 6, 7)"
      ]
     },
     "execution_count": 23,
     "metadata": {},
     "output_type": "execute_result"
    }
   ],
   "source": [
    "\n",
    "#! Practice Cell\n",
    "\n",
    "import datetime\n",
    "date = datetime.date(2025,1,16)\n",
    "print(date)\n",
    "today = date.today()\n",
    "print(today)\n",
    "\n",
    "time = datetime.time(12,30,45)\n",
    "print(time)\n",
    "\n",
    "time_now = datetime.datetime.now()\n",
    "print(time_now)\n",
    "#? Formatting datetime object\n",
    "timeNow = time_now.strftime(\"%H:%M:%S  %d-%m-%Y\") \n",
    "print(timeNow)\n",
    "\n",
    "\n",
    "target_dateTime = datetime.datetime(2020,1,2, 12,30,1)\n",
    "currentdateTime = datetime.datetime.now()\n",
    "\n",
    "if target_dateTime < currentdateTime:\n",
    "    print('Target Date has passed')\n",
    "else:\n",
    "    print('Target Date has not passed')    \n",
    "\n",
    "date.today()"
   ]
  },
  {
   "cell_type": "markdown",
   "id": "c29ebe98",
   "metadata": {},
   "source": [
    "### 🔟 **Problems to Practice**"
   ]
  },
  {
   "cell_type": "code",
   "execution_count": 32,
   "id": "ccca9c1e",
   "metadata": {},
   "outputs": [
    {
     "name": "stdout",
     "output_type": "stream",
     "text": [
      "2025-06-07 20:11:51.405016\n"
     ]
    },
    {
     "ename": "TypeError",
     "evalue": "strftime() missing required argument 'format' (pos 1)",
     "output_type": "error",
     "traceback": [
      "\u001b[31m---------------------------------------------------------------------------\u001b[39m",
      "\u001b[31mTypeError\u001b[39m                                 Traceback (most recent call last)",
      "\u001b[36mCell\u001b[39m\u001b[36m \u001b[39m\u001b[32mIn[32]\u001b[39m\u001b[32m, line 7\u001b[39m\n\u001b[32m      3\u001b[39m \u001b[38;5;28mprint\u001b[39m(datetime.datetime.now())\n\u001b[32m      6\u001b[39m \u001b[38;5;66;03m#? 2. **Get the current time**\u001b[39;00m\n\u001b[32m----> \u001b[39m\u001b[32m7\u001b[39m \u001b[38;5;28mprint\u001b[39m(\u001b[43mdatetime\u001b[49m\u001b[43m.\u001b[49m\u001b[43mdatetime\u001b[49m\u001b[43m.\u001b[49m\u001b[43mnow\u001b[49m\u001b[43m(\u001b[49m\u001b[43m)\u001b[49m\u001b[43m.\u001b[49m\u001b[43mstrftime\u001b[49m\u001b[43m(\u001b[49m\u001b[43m)\u001b[49m)\n\u001b[32m      9\u001b[39m \u001b[38;5;66;03m#? 3. **Find the number of days between two dates**\u001b[39;00m\n\u001b[32m     10\u001b[39m \u001b[38;5;66;03m#? 4. **Add 15 days to today’s date**\u001b[39;00m\n\u001b[32m     11\u001b[39m \u001b[38;5;66;03m#? 5. **Subtract 30 days from a given date**\u001b[39;00m\n\u001b[32m   (...)\u001b[39m\u001b[32m     15\u001b[39m \u001b[38;5;66;03m#? 9. **Check if a date (e.g., `\"2025-01-01\"`) is in the past or future**\u001b[39;00m\n\u001b[32m     16\u001b[39m \u001b[38;5;66;03m#? 10. **Make a countdown timer from now to a specific date**\u001b[39;00m\n",
      "\u001b[31mTypeError\u001b[39m: strftime() missing required argument 'format' (pos 1)"
     ]
    }
   ],
   "source": [
    "import datetime\n",
    "#? 1. **Find today’s date**\n",
    "print(datetime.datetime.now())\n",
    "\n",
    "\n",
    "#? 2. **Get the current time**\n",
    "\n",
    "\n",
    "#? 3. **Find the number of days between two dates**\n",
    "#? 4. **Add 15 days to today’s date**\n",
    "#? 5. **Subtract 30 days from a given date**\n",
    "#? 6. **Check how many days until your next birthday**\n",
    "#? 7. **Convert a date string (`\"2024-12-25\"`) to a `date` object**\n",
    "#? 8. **Convert today’s date to `\"DD/MM/YYYY\"` format**\n",
    "#? 9. **Check if a date (e.g., `\"2025-01-01\"`) is in the past or future**\n",
    "#? 10. **Make a countdown timer from now to a specific date**\n"
   ]
  },
  {
   "cell_type": "code",
   "execution_count": null,
   "id": "349fc0ae",
   "metadata": {},
   "outputs": [],
   "source": []
  }
 ],
 "metadata": {
  "kernelspec": {
   "display_name": ".venv",
   "language": "python",
   "name": "python3"
  },
  "language_info": {
   "codemirror_mode": {
    "name": "ipython",
    "version": 3
   },
   "file_extension": ".py",
   "mimetype": "text/x-python",
   "name": "python",
   "nbconvert_exporter": "python",
   "pygments_lexer": "ipython3",
   "version": "3.13.0"
  }
 },
 "nbformat": 4,
 "nbformat_minor": 5
}
