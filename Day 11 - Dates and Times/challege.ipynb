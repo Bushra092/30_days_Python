{
 "cells": [
  {
   "cell_type": "markdown",
   "id": "c12ac2f2",
   "metadata": {},
   "source": [
    "## 🎯 **Challenge**\n",
    "- ### Calculate the days between two dates"
   ]
  },
  {
   "cell_type": "code",
   "execution_count": 87,
   "id": "bd18ab24",
   "metadata": {},
   "outputs": [
    {
     "name": "stdout",
     "output_type": "stream",
     "text": [
      "_______________________________________\n",
      "Entered Date is 04-06-2016\n",
      "ERROR :  One or both dates are invalid. \n",
      " _______________________________________\n",
      "None \n",
      "_______________________________________\n"
     ]
    }
   ],
   "source": [
    "import datetime\n",
    "\n",
    "def checkForValidDate(date):\n",
    "    try:\n",
    "        valid_date = datetime.datetime.strptime(date, \"%d %m %Y\") #?Convert string to datetime object\n",
    "        print(\"Entered Date is\", valid_date.strftime(\"%d-%m-%Y\"))\n",
    "        return valid_date\n",
    "    except Exception as e:\n",
    "        return f\"Your Enterd Date is in wrong Format {date}\"\n",
    "    except Exception as e:\n",
    "        print(\"Error\",e)\n",
    "\n",
    "def daysBetweenThem(validDate1,validDate2):\n",
    "        try:\n",
    "            if validDate1 == validDate2:\n",
    "                print(\"Both are equal\")\n",
    "                return 0\n",
    "            elif validDate1 > validDate2:\n",
    "                return validDate1 - validDate2\n",
    "            else:\n",
    "                return validDate2 - validDate1\n",
    "        except TypeError as t:\n",
    "            print(\"ERROR :  One or both dates are invalid. \\n _______________________________________\")\n",
    "\n",
    "\n",
    "def enterDate():\n",
    "    enteredDate = input(\"Enter a date in 'DD MM YYYY' fromat\")\n",
    "    return enteredDate\n",
    "\n",
    "def daysbetween():\n",
    "    \n",
    "    print(\"_______________________________________\")\n",
    "    date1 = enterDate()\n",
    "    date2 = enterDate()\n",
    "    \n",
    "    #?# Validate both date inputs\n",
    "    validDate1 = checkForValidDate(date1)\n",
    "    validDate2 = checkForValidDate(date2)   \n",
    "\n",
    "    #? If both dates are valid, calculate difference\n",
    "    try:\n",
    "        if validDate2 and validDate2:\n",
    "            return print(daysBetweenThem(validDate1,validDate2), \"\\n_______________________________________\")\n",
    "        \n",
    "    except Exception as e :\n",
    "        return f\"ERROR : One or both dates are invalid.\\n _______________________________________\"\n",
    "daysbetween()"
   ]
  },
  {
   "cell_type": "markdown",
   "id": "5d9bb1a8",
   "metadata": {},
   "source": []
  },
  {
   "cell_type": "code",
   "execution_count": null,
   "id": "554b9c8b",
   "metadata": {},
   "outputs": [],
   "source": []
  }
 ],
 "metadata": {
  "kernelspec": {
   "display_name": ".venv",
   "language": "python",
   "name": "python3"
  },
  "language_info": {
   "codemirror_mode": {
    "name": "ipython",
    "version": 3
   },
   "file_extension": ".py",
   "mimetype": "text/x-python",
   "name": "python",
   "nbconvert_exporter": "python",
   "pygments_lexer": "ipython3",
   "version": "3.13.0"
  }
 },
 "nbformat": 4,
 "nbformat_minor": 5
}
