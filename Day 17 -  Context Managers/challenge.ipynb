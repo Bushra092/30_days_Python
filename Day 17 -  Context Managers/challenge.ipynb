{
 "cells": [
  {
   "cell_type": "markdown",
   "id": "641bb0f8",
   "metadata": {},
   "source": [
    "### 🎯 Challenge\n",
    "-  Build a context manager for safe file handling"
   ]
  },
  {
   "cell_type": "code",
   "execution_count": null,
   "id": "f0a4f515",
   "metadata": {},
   "outputs": [
    {
     "name": "stdout",
     "output_type": "stream",
     "text": [
      "Opens File\n",
      "Closing Program\n",
      "Closing File\n"
     ]
    }
   ],
   "source": [
    "\n",
    "#! 🎯 Challenge\n",
    "#? Build a context manager for safe file handling\n",
    "\n",
    "class safe_file():\n",
    "    def __init__(self):\n",
    "        pass\n",
    "\n",
    "    def __enter__(self):\n",
    "        print('Opens File')\n",
    "\n",
    "    def __exit__(self, exc_type, exc_value, traceback):\n",
    "        print('Closing File')\n",
    "        pass\n",
    "\n",
    "with safe_file() as f:\n",
    "    print('Closing Program')    "
   ]
  }
 ],
 "metadata": {
  "kernelspec": {
   "display_name": ".venv",
   "language": "python",
   "name": "python3"
  },
  "language_info": {
   "codemirror_mode": {
    "name": "ipython",
    "version": 3
   },
   "file_extension": ".py",
   "mimetype": "text/x-python",
   "name": "python",
   "nbconvert_exporter": "python",
   "pygments_lexer": "ipython3",
   "version": "3.13.0"
  }
 },
 "nbformat": 4,
 "nbformat_minor": 5
}
