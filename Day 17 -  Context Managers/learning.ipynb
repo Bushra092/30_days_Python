{
 "cells": [
  {
   "cell_type": "markdown",
   "id": "45cea9d8",
   "metadata": {},
   "source": [
    "### Day 1️⃣7️⃣: Context Managers"
   ]
  },
  {
   "cell_type": "code",
   "execution_count": 1,
   "id": "86f128e5",
   "metadata": {},
   "outputs": [
    {
     "name": "stdout",
     "output_type": "stream",
     "text": [
      "Opening main.py...\n",
      "main.py\n",
      "Closing file main.py...\n",
      "done!\n"
     ]
    }
   ],
   "source": [
    "class File:\n",
    "    def __init__(self, name):\n",
    "        self.name = name\n",
    "\n",
    "    def __enter__(self):\n",
    "        print(f\"Opening {self.name}...\")\n",
    "        return self\n",
    "\n",
    "    def __exit__(self, exc_type, exc_val, exc_tb):\n",
    "        print(f\"Closing file {self.name}...\")\n",
    "\n",
    "\n",
    "if __name__ == '__main__':\n",
    "    with File('main.py') as file:\n",
    "        print(file.name)\n",
    "\n",
    "\n",
    "    print('done!')    "
   ]
  }
 ],
 "metadata": {
  "kernelspec": {
   "display_name": ".venv",
   "language": "python",
   "name": "python3"
  },
  "language_info": {
   "codemirror_mode": {
    "name": "ipython",
    "version": 3
   },
   "file_extension": ".py",
   "mimetype": "text/x-python",
   "name": "python",
   "nbconvert_exporter": "python",
   "pygments_lexer": "ipython3",
   "version": "3.13.0"
  }
 },
 "nbformat": 4,
 "nbformat_minor": 5
}
