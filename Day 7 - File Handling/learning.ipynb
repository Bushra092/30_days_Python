{
 "cells": [
  {
   "cell_type": "markdown",
   "id": "dbeed879",
   "metadata": {},
   "source": [
    "# **Day 0️⃣7️⃣: File Handling**\n",
    "\n",
    "## 🧾 **What is File Handling in Python?**\n",
    "\n",
    "File handling is a way of storing data permanently on a disk. Python allows you to create, read, write, and delete files using built-in functions."
   ]
  },
  {
   "cell_type": "markdown",
   "id": "43a29fcc",
   "metadata": {},
   "source": [
    "## 🛠️ **Basic File Operations**\n",
    "\n",
    "### 1. **Opening a File**\n",
    "\n",
    "\n",
    "\n",
    "file = open(\"filename.txt\", \"mode\")\n",
    " \n",
    "\n",
    "### 🔤 **Modes**\n",
    "\n",
    "| Mode | Description |\n",
    "| --- | --- |\n",
    "| `'r'` | Read (default), file must exist |\n",
    "| `'w'` | Write, creates or truncates |\n",
    "| `'a'` | Append, creates if not exists |\n",
    "| `'x'` | Create, fails if exists |\n",
    "| `'b'` | Binary mode (e.g., `rb`, `wb`) |\n",
    "| `'t'` | Text mode (default) |\n",
    "| `'+'` | Read and write (e.g., `r+`) |\n",
    "\n"
   ]
  },
  {
   "cell_type": "markdown",
   "id": "0019e6fd",
   "metadata": {},
   "source": [
    "### **Reading a File**\n",
    "\n",
    "#### 1. **Read Entire Content**"
   ]
  },
  {
   "cell_type": "code",
   "execution_count": 75,
   "id": "8150331d",
   "metadata": {},
   "outputs": [
    {
     "name": "stdout",
     "output_type": "stream",
     "text": [
      "Hiiiii!\n",
      "I m bushra\n",
      "Hello python \n",
      "My first text file creted with open function\n"
     ]
    }
   ],
   "source": [
    "file = open(\"file1.txt\", \"r\")\n",
    "content = file.read()\n",
    "print(content)\n",
    "file.close() "
   ]
  },
  {
   "cell_type": "markdown",
   "id": "1fd894f8",
   "metadata": {},
   "source": [
    "\n",
    "### 2. **Read Line by Line**"
   ]
  },
  {
   "cell_type": "code",
   "execution_count": null,
   "id": "8f4ef8a8",
   "metadata": {},
   "outputs": [
    {
     "name": "stdout",
     "output_type": "stream",
     "text": [
      "Hiiiii!\n",
      "\n",
      "I m bushra\n",
      "\n",
      "Hello python \n",
      "\n",
      "My first text file creted with open function\n"
     ]
    }
   ],
   "source": [
    "file = open(\"file1.txt\", \"r\")\n",
    "for line in file:\n",
    "    print(line)\n",
    "file.close()"
   ]
  }
 ],
 "metadata": {
  "kernelspec": {
   "display_name": "Python 3",
   "language": "python",
   "name": "python3"
  },
  "language_info": {
   "codemirror_mode": {
    "name": "ipython",
    "version": 3
   },
   "file_extension": ".py",
   "mimetype": "text/x-python",
   "name": "python",
   "nbconvert_exporter": "python",
   "pygments_lexer": "ipython3",
   "version": "3.13.0"
  }
 },
 "nbformat": 4,
 "nbformat_minor": 5
}
