{
 "cells": [
  {
   "cell_type": "markdown",
   "id": "bdd31051",
   "metadata": {},
   "source": [
    "#### 🎯 **Challenge** \n",
    "- Count word frequencies in a text file"
   ]
  },
  {
   "cell_type": "code",
   "execution_count": 1,
   "id": "d99e45a6",
   "metadata": {},
   "outputs": [],
   "source": [
    "text = \"\"\"Python is fun. Python is powerful!\n",
    "Learning Python can be exciting, challenging, and rewarding.\n",
    "Fun fact: Python was named after Monty Python, not the snake.\n",
    "Isn't Python awesome?\"\"\"\n",
    "\n",
    "\n",
    "with open(\"challenge.txt\", \"w\") as challenge:\n",
    "    challenge.write(text)"
   ]
  },
  {
   "cell_type": "code",
   "execution_count": 2,
   "id": "f2d03506",
   "metadata": {},
   "outputs": [
    {
     "name": "stdout",
     "output_type": "stream",
     "text": [
      "Count word frequencies in a text file\n",
      "Python 5\n",
      "is 2\n",
      "fun. 1\n",
      "powerful! 1\n",
      "Learning 1\n",
      "can 1\n",
      "be 1\n",
      "exciting, 1\n",
      "challenging, 1\n",
      "and 1\n",
      "rewarding. 1\n",
      "Fun 1\n",
      "fact: 1\n",
      "was 1\n",
      "named 1\n",
      "after 1\n",
      "Monty 1\n",
      "Python, 1\n",
      "not 1\n",
      "the 1\n",
      "snake. 1\n",
      "Isn't 1\n",
      "awesome? 1\n"
     ]
    }
   ],
   "source": [
    "wordsCount = {}\n",
    "\n",
    "with open(\"challenge.txt\", \"r\") as readingFile:\n",
    "   \n",
    "    for line in readingFile: \n",
    "          count = 1\n",
    "          for word in line.split():               \n",
    "               if word in wordsCount:\n",
    "                   wordsCount[word] += count\n",
    "               else: \n",
    "                    wordsCount[word] = count \n",
    "\n",
    "print(\"Count word frequencies in a text file\")                     \n",
    "for word,count in wordsCount.items():\n",
    "    print(word,count)\n",
    "    "
   ]
  }
 ],
 "metadata": {
  "kernelspec": {
   "display_name": ".venv",
   "language": "python",
   "name": "python3"
  },
  "language_info": {
   "codemirror_mode": {
    "name": "ipython",
    "version": 3
   },
   "file_extension": ".py",
   "mimetype": "text/x-python",
   "name": "python",
   "nbconvert_exporter": "python",
   "pygments_lexer": "ipython3",
   "version": "3.13.0"
  }
 },
 "nbformat": 4,
 "nbformat_minor": 5
}
