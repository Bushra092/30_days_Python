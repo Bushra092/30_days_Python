{
 "cells": [
  {
   "cell_type": "markdown",
   "id": "8b10acf9",
   "metadata": {},
   "source": [
    "### Day 06 **Modules and Packages**\n",
    "\n",
    "\n",
    "Topics\n",
    "- Importing modules (math, random), creating custom modules\n",
    "\n"
   ]
  },
  {
   "cell_type": "markdown",
   "id": "10c7bd20",
   "metadata": {},
   "source": [
    "**module** is simply a Python file that contains functions, variables, or classes.\n",
    "\n",
    "**for reuse code** and keep our programs clean and organized.\n",
    "\n",
    "There are **two types** of modules in Python:\n",
    "\n",
    "✅ Built-in modules – like `math`, `random`, `pandas`, `matplotlib`\n",
    "\n",
    "✅ User-defined modules – created by us for specific tasks\n",
    "\n",
    "To use any module, we need to use the `import` keyword."
   ]
  },
  {
   "cell_type": "markdown",
   "id": "c53e6bda",
   "metadata": {},
   "source": [
    "\n",
    "### 🎯 Challenge\n",
    "- **Generate a random 8-character password**"
   ]
  },
  {
   "cell_type": "code",
   "execution_count": null,
   "id": "10aa8119",
   "metadata": {},
   "outputs": [],
   "source": [
    "import random, string\n",
    "\n",
    "UPPER = string.ascii_uppercase # A-Z\n",
    "LOWER = string.ascii_lowercase # a-z\n",
    "DIGITS = string.digits #0-9\n",
    "SPECIAL_CHAR = string.punctuation  # @#$!)_-*&^%><?/|\\\n",
    "\n",
    "All_CHAR = UPPER + LOWER + DIGITS + SPECIAL_CHAR #A-Z a-z 0-9 %^&*(#*)\n",
    "\n"
   ]
  },
  {
   "cell_type": "code",
   "execution_count": 23,
   "id": "5c84ce0d",
   "metadata": {},
   "outputs": [
    {
     "name": "stdout",
     "output_type": "stream",
     "text": [
      "nXUk$L\\i\n"
     ]
    },
    {
     "data": {
      "text/plain": [
       "['P', '7', 'm', ';', 'S', 'p', '@', 'r']"
      ]
     },
     "execution_count": 23,
     "metadata": {},
     "output_type": "execute_result"
    }
   ],
   "source": [
    "print(\"\".join(random.choices(All_CHAR, k=8)))\n",
    "random.choices(All_CHAR, k=8)"
   ]
  },
  {
   "cell_type": "code",
   "execution_count": 24,
   "id": "02d8288b",
   "metadata": {},
   "outputs": [
    {
     "name": "stdout",
     "output_type": "stream",
     "text": [
      "Password (Fun) : Qo9~Z[Cy\n"
     ]
    }
   ],
   "source": [
    "def gP():\n",
    "    Passw = random.choice(UPPER) + random.choice(LOWER) + random.choice(DIGITS) + random.choice(SPECIAL_CHAR)\n",
    "\n",
    "\n",
    "    password = Passw + \"\".join(random.choices(All_CHAR, k=4))\n",
    "    # print(password)\n",
    "    return password\n",
    "\n",
    "print(\"Password (Fun) :\", gP())"
   ]
  },
  {
   "cell_type": "code",
   "execution_count": 26,
   "id": "10d13e3e",
   "metadata": {},
   "outputs": [
    {
     "name": "stdout",
     "output_type": "stream",
     "text": [
      "Password :  Rd1.aw@A\n"
     ]
    }
   ],
   "source": [
    "import generatePassword \n",
    "print(\"Password : \", generatePassword.gP())"
   ]
  },
  {
   "cell_type": "code",
   "execution_count": null,
   "id": "1d6c591a",
   "metadata": {},
   "outputs": [],
   "source": []
  }
 ],
 "metadata": {
  "kernelspec": {
   "display_name": "Python 3",
   "language": "python",
   "name": "python3"
  },
  "language_info": {
   "codemirror_mode": {
    "name": "ipython",
    "version": 3
   },
   "file_extension": ".py",
   "mimetype": "text/x-python",
   "name": "python",
   "nbconvert_exporter": "python",
   "pygments_lexer": "ipython3",
   "version": "3.13.0"
  }
 },
 "nbformat": 4,
 "nbformat_minor": 5
}
