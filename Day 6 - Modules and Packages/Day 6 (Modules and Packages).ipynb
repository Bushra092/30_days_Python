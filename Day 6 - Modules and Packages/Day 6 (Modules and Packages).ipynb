{
 "cells": [
  {
   "cell_type": "code",
   "execution_count": 4,
   "id": "8c18fb76",
   "metadata": {},
   "outputs": [],
   "source": [
    "import random, string"
   ]
  },
  {
   "cell_type": "code",
   "execution_count": null,
   "id": "58f1e280",
   "metadata": {},
   "outputs": [],
   "source": [
    "\n",
    "UPPER = string.ascii_uppercase\n",
    "LOWER = string.ascii_lowercase\n",
    "DIGITS = string.digits\n",
    "SPECIAL_CHAR = string.punctuation\n",
    "All_CHAR = UPPER + LOWER + DIGITS + SPECIAL_CHAR\n"
   ]
  },
  {
   "cell_type": "code",
   "execution_count": 9,
   "id": "1f84ba86",
   "metadata": {},
   "outputs": [
    {
     "name": "stdout",
     "output_type": "stream",
     "text": [
      "Password : Rz9!ZA3[\n"
     ]
    }
   ],
   "source": [
    "def generatePassword():\n",
    "    Passw = random.choice(UPPER) + random.choice(LOWER) + random.choice(DIGITS) + random.choice(SPECIAL_CHAR)\n",
    "    password = Passw + \"\".join(random.choices(All_CHAR, k=4))\n",
    "    return password\n",
    "\n",
    "print(f\"Password : {generatePassword()}\")   "
   ]
  },
  {
   "cell_type": "code",
   "execution_count": null,
   "id": "ed4d4f45",
   "metadata": {},
   "outputs": [],
   "source": []
  }
 ],
 "metadata": {
  "kernelspec": {
   "display_name": ".venv",
   "language": "python",
   "name": "python3"
  },
  "language_info": {
   "codemirror_mode": {
    "name": "ipython",
    "version": 3
   },
   "file_extension": ".py",
   "mimetype": "text/x-python",
   "name": "python",
   "nbconvert_exporter": "python",
   "pygments_lexer": "ipython3",
   "version": "3.13.0"
  }
 },
 "nbformat": 4,
 "nbformat_minor": 5
}
