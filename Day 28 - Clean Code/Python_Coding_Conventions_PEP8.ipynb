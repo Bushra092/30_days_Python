{
 "cells": [
  {
   "cell_type": "markdown",
   "metadata": {},
   "source": [
    "# Python Coding Conventions You Really Should Follow\n",
    "Adapted from the [NeuralNine YouTube Video](https://www.youtube.com/watch?v=U2vDWc5sce0)\n",
    "\n",
    "##  Based on PEP 8 Guidelines"
   ]
  },
  {
   "cell_type": "markdown",
   "metadata": {},
   "source": [
    "### 1️⃣ Indentation & Line Length\n",
    "- Use **4 spaces per indentation level**.\n",
    "- Limit lines to **79 or 88 characters** for better readability."
   ]
  },
  {
   "cell_type": "code",
   "execution_count": null,
   "metadata": {},
   "outputs": [],
   "source": [
    "# ✅ Good:\n",
    "def greet(name):\n",
    "    print(f\"Hello, {name}!\")"
   ]
  },
  {
   "cell_type": "markdown",
   "metadata": {},
   "source": [
    "### 2️⃣ Naming Conventions\n",
    "- Variables & functions: `snake_case`\n",
    "- Classes: `CamelCase`\n",
    "- Constants: `UPPER_SNAKE_CASE`"
   ]
  },
  {
   "cell_type": "code",
   "execution_count": null,
   "metadata": {},
   "outputs": [],
   "source": [
    "PI = 3.14159\n",
    "\n",
    "class CircleShape:\n",
    "    def __init__(self, radius):\n",
    "        self.radius = radius\n",
    "\n",
    "    def calculate_area(self):\n",
    "        return PI * (self.radius ** 2)"
   ]
  },
  {
   "cell_type": "markdown",
   "metadata": {},
   "source": [
    "### 3️⃣ Whitespace Usage\n",
    "- Avoid unnecessary spaces inside brackets, before commas, colons.\n",
    "- Use a single space around binary operators."
   ]
  },
  {
   "cell_type": "code",
   "execution_count": null,
   "metadata": {},
   "outputs": [],
   "source": [
    "# ❌ Bad:\n",
    "my_list = [ 1 , 2 , 3 ]\n",
    "total= sum (my_list)\n",
    "\n",
    "# ✅ Good:\n",
    "my_list = [1, 2, 3]\n",
    "total = sum(my_list)"
   ]
  },
  {
   "cell_type": "markdown",
   "metadata": {},
   "source": [
    "### 4️⃣ Comments & Docstrings\n",
    "- Use comments to explain **why**, not what.\n",
    "- Use docstrings for functions, classes, and modules."
   ]
  },
  {
   "cell_type": "code",
   "execution_count": null,
   "metadata": {},
   "outputs": [],
   "source": [
    "def calculate_tax(price, rate):\n",
    "    \"\"\"Calculate tax given a price and rate.\"\"\"\n",
    "    return price * rate  # multiply price by tax rate"
   ]
  },
  {
   "cell_type": "markdown",
   "metadata": {},
   "source": [
    "### 5️⃣ Tools: Linters & Formatters\n",
    "- Use `black` for code formatting.\n",
    "- Use `flake8`, `pylint` for style and syntax checks.\n",
    "- Use `isort` to sort imports automatically."
   ]
  },
  {
   "cell_type": "markdown",
   "metadata": {},
   "source": [
    "### ✅ Summary\n",
    "- PEP 8 ensures **readability** and **consistency**.\n",
    "- Conventions help in **collaboration** and **maintainability**.\n",
    "- Tools automate formatting and help catch issues early."
   ]
  }
 ],
 "metadata": {
  "kernelspec": {
   "display_name": "Python 3",
   "language": "python",
   "name": "python3"
  },
  "language_info": {
   "name": "python",
   "version": "3.x"
  }
 },
 "nbformat": 4,
 "nbformat_minor": 5
}
