{
 "cells": [
  {
   "cell_type": "markdown",
   "metadata": {},
   "source": [
    "# 🧼 Clean Code Tips in Python\n",
    "Adapted from the [YouTube Video](https://www.youtube.com/watch?v=vhdUyGs_f6c)\n",
    "\n",
    "## 🎯 5 Key Tips for Writing Clean Python Code\n"
   ]
  },
  {
   "cell_type": "markdown",
   "metadata": {},
   "source": [
    "### 1️⃣ Meaningful Names\n",
    "- Use descriptive variable and function names.\n",
    "- Avoid single-letter or vague names."
   ]
  },
  {
   "cell_type": "code",
   "execution_count": null,
   "metadata": {},
   "outputs": [],
   "source": [
    "# ❌ Bad:\n",
    "x = 10\n",
    "y = 20\n",
    "z = x + y\n",
    "\n",
    "# ✅ Good:\n",
    "number_of_apples = 10\n",
    "number_of_oranges = 20\n",
    "total_fruits = number_of_apples + number_of_oranges\n",
    "print(total_fruits)"
   ]
  },
  {
   "cell_type": "markdown",
   "metadata": {},
   "source": [
    "### 2️⃣ Keep Functions Small & Focused\n",
    "- Functions should do one thing only.\n",
    "- Keep them under 20 lines if possible."
   ]
  },
  {
   "cell_type": "code",
   "execution_count": null,
   "metadata": {},
   "outputs": [],
   "source": [
    "# ❌ Bad:\n",
    "def process_data(data):\n",
    "    cleaned = [x.strip().lower() for x in data]\n",
    "    sorted_data = sorted(cleaned)\n",
    "    return ','.join(sorted_data)\n",
    "\n",
    "# ✅ Good:\n",
    "def clean_data(data):\n",
    "    return [x.strip().lower() for x in data]\n",
    "\n",
    "def sort_data(data):\n",
    "    return sorted(data)\n",
    "\n",
    "def join_data(data):\n",
    "    return ','.join(data)\n",
    "\n",
    "# Example\n",
    "raw_data = [\"  Banana\", \"apple  \", \"Cherry \"]\n",
    "cleaned = clean_data(raw_data)\n",
    "sorted_cleaned = sort_data(cleaned)\n",
    "result = join_data(sorted_cleaned)\n",
    "print(result)"
   ]
  },
  {
   "cell_type": "markdown",
   "metadata": {},
   "source": [
    "### 3️⃣ Avoid Magic Numbers\n",
    "- Replace them with named constants."
   ]
  },
  {
   "cell_type": "code",
   "execution_count": null,
   "metadata": {},
   "outputs": [],
   "source": [
    "score = 0\n",
    "# ❌ Bad:\n",
    "if score > 90:\n",
    "    print(\"Excellent\")\n",
    "\n",
    "# ✅ Good:\n",
    "EXCELLENT_THRESHOLD = 90\n",
    "\n",
    "if score > EXCELLENT_THRESHOLD:\n",
    "    print(\"Excellent\")"
   ]
  },
  {
   "cell_type": "markdown",
   "metadata": {},
   "source": [
    "### 4️⃣ Prefer Pythonic Idioms\n",
    "- Use `enumerate`, unpacking, and comprehensions."
   ]
  },
  {
   "cell_type": "code",
   "execution_count": 1,
   "metadata": {},
   "outputs": [
    {
     "name": "stdout",
     "output_type": "stream",
     "text": [
      "0 10\n",
      "1 0\n",
      "2 30\n",
      "3 40\n",
      "0 10\n",
      "1 0\n",
      "2 30\n",
      "3 40\n"
     ]
    }
   ],
   "source": [
    "items = [10,0,30,40]\n",
    "# ❌ Bad:\n",
    "i = 0\n",
    "for item in items:\n",
    "    print(i, item)\n",
    "    i += 1\n",
    "\n",
    "# ✅ Good:\n",
    "for i, item in enumerate(items):\n",
    "    print(i, item)"
   ]
  },
  {
   "cell_type": "markdown",
   "metadata": {},
   "source": [
    "### 5️⃣ Use Linters & Formatters\n",
    "- Tools like `black`, `flake8`, and `pylint` help enforce style and catch bugs early."
   ]
  }
 ],
 "metadata": {
  "kernelspec": {
   "display_name": ".venv",
   "language": "python",
   "name": "python3"
  },
  "language_info": {
   "codemirror_mode": {
    "name": "ipython",
    "version": 3
   },
   "file_extension": ".py",
   "mimetype": "text/x-python",
   "name": "python",
   "nbconvert_exporter": "python",
   "pygments_lexer": "ipython3",
   "version": "3.13.0"
  }
 },
 "nbformat": 4,
 "nbformat_minor": 5
}
