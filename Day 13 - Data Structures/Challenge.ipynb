{
 "cells": [
  {
   "cell_type": "code",
   "execution_count": 2,
   "id": "a8e050b0",
   "metadata": {},
   "outputs": [],
   "source": [
    "from collections import deque\n"
   ]
  },
  {
   "cell_type": "code",
   "execution_count": 3,
   "id": "540a5823",
   "metadata": {},
   "outputs": [
    {
     "data": {
      "text/plain": [
       "['__add__',\n",
       " '__class__',\n",
       " '__class_getitem__',\n",
       " '__contains__',\n",
       " '__copy__',\n",
       " '__delattr__',\n",
       " '__delitem__',\n",
       " '__dir__',\n",
       " '__doc__',\n",
       " '__eq__',\n",
       " '__format__',\n",
       " '__ge__',\n",
       " '__getattribute__',\n",
       " '__getitem__',\n",
       " '__getstate__',\n",
       " '__gt__',\n",
       " '__hash__',\n",
       " '__iadd__',\n",
       " '__imul__',\n",
       " '__init__',\n",
       " '__init_subclass__',\n",
       " '__iter__',\n",
       " '__le__',\n",
       " '__len__',\n",
       " '__lt__',\n",
       " '__module__',\n",
       " '__mul__',\n",
       " '__ne__',\n",
       " '__new__',\n",
       " '__reduce__',\n",
       " '__reduce_ex__',\n",
       " '__repr__',\n",
       " '__reversed__',\n",
       " '__rmul__',\n",
       " '__setattr__',\n",
       " '__setitem__',\n",
       " '__sizeof__',\n",
       " '__str__',\n",
       " '__subclasshook__',\n",
       " 'append',\n",
       " 'appendleft',\n",
       " 'clear',\n",
       " 'copy',\n",
       " 'count',\n",
       " 'extend',\n",
       " 'extendleft',\n",
       " 'index',\n",
       " 'insert',\n",
       " 'maxlen',\n",
       " 'pop',\n",
       " 'popleft',\n",
       " 'remove',\n",
       " 'reverse',\n",
       " 'rotate']"
      ]
     },
     "execution_count": 3,
     "metadata": {},
     "output_type": "execute_result"
    }
   ],
   "source": [
    "df = deque()\n",
    "dir(df)"
   ]
  },
  {
   "cell_type": "code",
   "execution_count": 34,
   "id": "4b211f91",
   "metadata": {},
   "outputs": [],
   "source": [
    "class stackUpdate:\n",
    "\n",
    "    def __init__(self):\n",
    "        self.stack = deque()\n",
    "\n",
    "    def append(self,value):\n",
    "        return self.stack.append(value)\n",
    "        \n",
    "    def pop(self):\n",
    "        return self.stack.pop()\n",
    "\n",
    "    def peek(self):\n",
    "        return self.stack[-1]\n",
    "    \n",
    "    def lenStack(self):\n",
    "        return len(self.stack)\n",
    "    \n",
    "    def isemty(self):\n",
    "        return len(self.stack) == 0\n",
    "\n"
   ]
  },
  {
   "cell_type": "code",
   "execution_count": 35,
   "id": "230be9df",
   "metadata": {},
   "outputs": [
    {
     "name": "stdout",
     "output_type": "stream",
     "text": [
      "____________________________________________\n",
      "\n",
      "Stack Contains : deque([])\n",
      "____________________________________________\n",
      "\n",
      "Stack Contains : deque([12, 45, 36, 25, 14])\n",
      "\n",
      "Removing element from stack: 14\n",
      "\n",
      "last elemet without Remove : 25\n",
      "deque([12, 45, 36, 25])\n",
      "\n",
      "lenght of stack : 4\n",
      "\n",
      "lenght of stack : False \n",
      "Stack : deque([12, 45, 36, 25])\n"
     ]
    }
   ],
   "source": [
    "mystack = stackUpdate()\n",
    "listItem = [12,45,36,25,14]\n",
    "\n",
    "print(\"____________________________________________\")\n",
    "print(f\"\\nStack Contains : {mystack.stack}\")\n",
    "\n",
    "print(\"____________________________________________\")\n",
    "for i in listItem:\n",
    "    mystack.append(i)\n",
    "\n",
    "print(f\"\\nStack Contains : {mystack.stack}\")   \n",
    "\n",
    "#? Removing Element from Stack\n",
    "removeElement = mystack.pop()\n",
    "\n",
    "print(f\"\\nRemoving element from stack: {removeElement}\")  \n",
    "\n",
    "#? Peek returns element but doesnt remove\n",
    "peekElem  = mystack.peek()\n",
    "print(f\"\\nlast elemet without Remove : {peekElem}\")\n",
    "print(mystack.stack)\n",
    "\n",
    "#? len of stack\n",
    "lenOfElem = mystack.lenStack()\n",
    "print(f\"\\nlenght of stack : {lenOfElem}\")\n",
    "\n",
    "#? is empty\n",
    "isEmptyStack = mystack.isemty()\n",
    "print(f\"\\nlenght of stack : {isEmptyStack} \\nStack : {mystack.stack}\")\n"
   ]
  },
  {
   "cell_type": "code",
   "execution_count": null,
   "id": "2189ceae",
   "metadata": {},
   "outputs": [],
   "source": []
  }
 ],
 "metadata": {
  "kernelspec": {
   "display_name": ".venv",
   "language": "python",
   "name": "python3"
  },
  "language_info": {
   "codemirror_mode": {
    "name": "ipython",
    "version": 3
   },
   "file_extension": ".py",
   "mimetype": "text/x-python",
   "name": "python",
   "nbconvert_exporter": "python",
   "pygments_lexer": "ipython3",
   "version": "3.13.0"
  }
 },
 "nbformat": 4,
 "nbformat_minor": 5
}
