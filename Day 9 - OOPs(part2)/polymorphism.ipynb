{
 "cells": [
  {
   "cell_type": "markdown",
   "id": "fa19e4f6",
   "metadata": {},
   "source": [
    "### **polymorphism**\n",
    "\n",
    "  - Many Forms\n",
    "\n",
    "  - Used\n",
    "     - loose coupling\n",
    "     - Dependency Injection\n",
    "     - interfaces\n",
    "\n",
    "  \n",
    "  - 4 Types to implementing polymorphism\n",
    "    - Duck Typing\n",
    "    - Operator Overloading\n",
    "    - Metod Overloading\n",
    "    - Method Overriding\n",
    "\n",
    "    \n",
    "\n"
   ]
  },
  {
   "cell_type": "markdown",
   "id": "c9c0ad2e",
   "metadata": {},
   "source": [
    "-----------------\n",
    "\n",
    "1. Duck Typing"
   ]
  },
  {
   "cell_type": "code",
   "execution_count": null,
   "id": "54ddafbf",
   "metadata": {},
   "outputs": [
    {
     "name": "stdout",
     "output_type": "stream",
     "text": [
      "Spell Check\n",
      "Converntion Check\n",
      "Compiling\n",
      "Running\n"
     ]
    }
   ],
   "source": [
    "class vsCode:\n",
    "\n",
    "    def execute(self):\n",
    "        print(\"Compiling\")\n",
    "        print(\"Running\")\n",
    "\n",
    "\n",
    "\n",
    "class MyEditor:\n",
    "\n",
    "    def execute(self):\n",
    "        print(\"Spell Check\")\n",
    "        print(\"Converntion Check\")\n",
    "        print(\"Compiling\")\n",
    "        print(\"Running\")        \n",
    "\n",
    "\n",
    "\n",
    "class Laptop:\n",
    "\n",
    "    def code(self, ide):\n",
    "        ide.execute()\n",
    "\n",
    "\n",
    "ide = vsCode()\n",
    "ide = MyEditor()\n",
    "lap1 = Laptop()\n",
    "lap1.code(ide)\n"
   ]
  },
  {
   "cell_type": "markdown",
   "id": "3baa4287",
   "metadata": {},
   "source": [
    "-----\n",
    "2. Operator Overloading\n",
    "\n",
    "   "
   ]
  },
  {
   "cell_type": "code",
   "execution_count": 10,
   "id": "f2409600",
   "metadata": {},
   "outputs": [
    {
     "name": "stdout",
     "output_type": "stream",
     "text": [
      "11\n",
      "56\n"
     ]
    }
   ],
   "source": [
    "a = 5\n",
    "b=6\n",
    "print(a+b)\n",
    "a = '5'\n",
    "b = '6'\n",
    "\n",
    "# print(int.__add__(a,b))\n",
    "print(str.__add__(a,b))"
   ]
  },
  {
   "cell_type": "code",
   "execution_count": 33,
   "id": "9af76ccf",
   "metadata": {},
   "outputs": [
    {
     "name": "stdout",
     "output_type": "stream",
     "text": [
      "116\n",
      "122\n",
      "s2 Win\n",
      "56 69\n",
      "56 69\n"
     ]
    }
   ],
   "source": [
    "class Student:\n",
    "    def __init__(self, m1,m2):\n",
    "        self.m1 = m1 \n",
    "        self.m2 = m2\n",
    "\n",
    "    def __add__(self, other):\n",
    "        m1 = self.m1  + other.m1  \n",
    "        m2 = self.m2 + other.m2\n",
    "\n",
    "        s3 = Student(m1,m2)   \n",
    "        return s3\n",
    "    \n",
    "    def __gt__(self, other):\n",
    "        s1 = self.m1 + other.m1\n",
    "        s2 = self.m2 + other.m2\n",
    "\n",
    "        if s1 > s2 :\n",
    "            return True\n",
    "        else: False\n",
    "\n",
    "    def __str__(self):\n",
    "        \n",
    "        return '{} {}'.format(self.m1 , self.m2)\n",
    "        return self.m1, self.m2    \n",
    "\n",
    "s1 = Student(56,69)        \n",
    "s2 = Student(60,53)  \n",
    "\n",
    "s3 = s1 + s2\n",
    "print(s3.m1)\n",
    "print(s3.m2)\n",
    " \n",
    "\n",
    "if s1> s2:\n",
    "    print('s1 Win')\n",
    "else: print('s2 Win')\n",
    "\n",
    "\n",
    "print(s1)\n",
    "print(s1.__str__())"
   ]
  },
  {
   "cell_type": "markdown",
   "id": "fd78b6ae",
   "metadata": {},
   "source": [
    "----\n",
    "3. Method Overriding"
   ]
  },
  {
   "cell_type": "code",
   "execution_count": 47,
   "id": "08b32475",
   "metadata": {},
   "outputs": [
    {
     "name": "stdout",
     "output_type": "stream",
     "text": [
      "5\n",
      "9\n",
      "23\n"
     ]
    }
   ],
   "source": [
    "class Student:\n",
    "\n",
    "    def __init__(self,m1,m2):\n",
    "        self.m1 = m1\n",
    "        self.m2 = m2\n",
    "\n",
    "    def sum(self, a = None, b = None, c= None ):\n",
    "        s = 0\n",
    "\n",
    "        if a!=None and b!= None and c!=None:\n",
    "            s =  a+b+c \n",
    "        \n",
    "        elif a!=None and b!= None:\n",
    "            s = a+b\n",
    "\n",
    "        else:\n",
    "            s = a\n",
    "\n",
    "\n",
    "        return s   \n",
    "    \n",
    "s1 = Student(25, 30)  \n",
    "print(s1.sum(5))\n",
    "print(s1.sum(5,4))\n",
    "print(s1.sum(5,4,14))"
   ]
  },
  {
   "cell_type": "markdown",
   "id": "1815b01e",
   "metadata": {},
   "source": [
    "_____\n",
    "4. Metod Overloading"
   ]
  },
  {
   "cell_type": "code",
   "execution_count": null,
   "id": "979adffd",
   "metadata": {},
   "outputs": [
    {
     "name": "stdout",
     "output_type": "stream",
     "text": [
      "in B show\n"
     ]
    }
   ],
   "source": [
    "class A:\n",
    "\n",
    "    def show(self):\n",
    "        print('in A show')\n",
    "\n",
    "\n",
    "class B(A):\n",
    "    def show(self):\n",
    "        print('in B show')\n",
    "    pass\n",
    "\n",
    "a1 = B()\n",
    "a1.show()\n",
    "\n",
    "\n"
   ]
  },
  {
   "cell_type": "markdown",
   "id": "bbbc3634",
   "metadata": {},
   "source": []
  }
 ],
 "metadata": {
  "kernelspec": {
   "display_name": ".venv",
   "language": "python",
   "name": "python3"
  },
  "language_info": {
   "codemirror_mode": {
    "name": "ipython",
    "version": 3
   },
   "file_extension": ".py",
   "mimetype": "text/x-python",
   "name": "python",
   "nbconvert_exporter": "python",
   "pygments_lexer": "ipython3",
   "version": "3.13.0"
  }
 },
 "nbformat": 4,
 "nbformat_minor": 5
}
