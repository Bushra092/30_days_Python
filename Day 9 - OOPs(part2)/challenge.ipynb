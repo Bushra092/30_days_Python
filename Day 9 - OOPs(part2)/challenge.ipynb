{
 "cells": [
  {
   "cell_type": "markdown",
   "id": "74aae5b5",
   "metadata": {},
   "source": [
    "#### 🎯 Challenge\n",
    "- Extend Car into an ElectricCar subclass with battery capacity"
   ]
  },
  {
   "cell_type": "code",
   "execution_count": null,
   "id": "f6cb62e6",
   "metadata": {},
   "outputs": [
    {
     "name": "stdout",
     "output_type": "stream",
     "text": [
      "Car confi\n",
      "jet blcak Mercedece-Benz\n",
      "Engine started..........\n",
      "______________________________________\n",
      "\n"
     ]
    },
    {
     "data": {
      "text/plain": [
       "'Electric Car -  jet blcak, Mercedece-Benz, 250'"
      ]
     },
     "execution_count": 18,
     "metadata": {},
     "output_type": "execute_result"
    }
   ],
   "source": [
    "\n",
    "###! 🎯 Challenge\n",
    "#?- Extend Car into an ElectricCar subclass with battery capacity\n",
    "class car:\n",
    "\n",
    "    def __init__(self, color, brand):\n",
    "        self.color = color\n",
    "        self.brand = brand\n",
    "\n",
    "    def start_engine(self):\n",
    "        print('Car confi')\n",
    "        print(self.color, self.brand)\n",
    "        print(\"Engine started..........\")\n",
    "        print('______________________________________\\n')\n",
    "\n",
    "    def apply_break(self):\n",
    "        print('Car confi')\n",
    "        print(self.color, self.brand)\n",
    "        print(\"break!!!!\")  \n",
    "        print('______________________________________\\n')\n",
    "\n",
    "\n",
    "# Subclass\n",
    "\n",
    "class ElectricCar(car):\n",
    "\n",
    "    def __init__(self,color, brand, battery_capacity):\n",
    "        super().__init__(color, brand)\n",
    "        self.battery_capacity = battery_capacity \n",
    "\n",
    "    def display(self):\n",
    "        return f\"Electric Car -  {self.color}, {self.brand}, {self.battery_capacity}\"\n",
    "\n",
    "vehicle1 = ElectricCar('jet blcak', 'Mercedece-Benz',250)\n",
    "vehicle1.start_engine()\n",
    "vehicle1.display\n"
   ]
  },
  {
   "cell_type": "markdown",
   "id": "9a0f8e3e",
   "metadata": {},
   "source": []
  },
  {
   "cell_type": "code",
   "execution_count": null,
   "id": "341e9ef0",
   "metadata": {},
   "outputs": [],
   "source": []
  }
 ],
 "metadata": {
  "kernelspec": {
   "display_name": ".venv",
   "language": "python",
   "name": "python3"
  },
  "language_info": {
   "codemirror_mode": {
    "name": "ipython",
    "version": 3
   },
   "file_extension": ".py",
   "mimetype": "text/x-python",
   "name": "python",
   "nbconvert_exporter": "python",
   "pygments_lexer": "ipython3",
   "version": "3.13.0"
  }
 },
 "nbformat": 4,
 "nbformat_minor": 5
}
