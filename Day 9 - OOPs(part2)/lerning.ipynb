{
 "cells": [
  {
   "cell_type": "markdown",
   "id": "4ba19acf",
   "metadata": {},
   "source": [
    "###  **Inheritance, polymorphism**\n",
    "- Super Class\n",
    "- Sub class\n",
    "\n",
    "- Single level inheritance : B inheriting A\n",
    "- Multi level inheritance : class C(B) --- class B(A) c inheriting A and B, where B is inheriting A\n",
    "- Multiple inheritance: class C(A,B) -- c inheriting A as well as B"
   ]
  },
  {
   "cell_type": "code",
   "execution_count": 19,
   "id": "1b8d1060",
   "metadata": {},
   "outputs": [
    {
     "name": "stdout",
     "output_type": "stream",
     "text": [
      "Feature B\n",
      "Feature C\n"
     ]
    }
   ],
   "source": [
    "class A:\n",
    "\n",
    "    def fe1(self):\n",
    "        print(\"Feature A\")\n",
    "    def fe2(self):\n",
    "        print(\"Feature B\")    \n",
    "\n",
    "\n",
    "\n",
    "class B:\n",
    "\n",
    "    def fe3(self):\n",
    "        print(\"Feature C\")\n",
    "    def fe4(self):\n",
    "        print(\"Feature D\")   \n",
    "\n",
    "class C(A,B):\n",
    "      def fe5(self):\n",
    "        print(\"Feature F\")       \n",
    "\n",
    "\n",
    "b1 = B()        \n",
    "c1 = C()\n",
    "\n",
    "c1.fe2()\n",
    "b1.fe3()\n"
   ]
  },
  {
   "cell_type": "markdown",
   "id": "45304b55",
   "metadata": {},
   "source": [
    "#### Constructor in inheritance & Method resolution order (MRO)\n"
   ]
  },
  {
   "cell_type": "code",
   "execution_count": 63,
   "id": "19c81ddd",
   "metadata": {},
   "outputs": [
    {
     "name": "stdout",
     "output_type": "stream",
     "text": [
      "in A init\n",
      "in C in it\n",
      "Feature B\n"
     ]
    }
   ],
   "source": [
    "class A:\n",
    "    \n",
    "    def __init__(self):\n",
    "        print('in A init')\n",
    "\n",
    "    def fe1(self):\n",
    "        print(\"Feature A\")\n",
    "    def fe2(self):\n",
    "        print(\"Feature B\")    \n",
    "\n",
    "\n",
    "\n",
    "class B:\n",
    "\n",
    "    #? if  __init__ is not  in B  automatically its called A's init \n",
    "    def __init__(self):        \n",
    "        print('in B in it') \n",
    "        #? without this only Class B initi run\n",
    "        # super().__init__() \n",
    "\n",
    "    def fe3(self):\n",
    "        print(\"Feature C\")\n",
    "    def fe4(self):\n",
    "        print(\"Feature D\")  \n",
    "\n",
    "class C(A,B):\n",
    "\n",
    "    def __init__(self):\n",
    "        super().__init__()\n",
    "        print('in C in it')  \n",
    "\n",
    "    def feat(self):\n",
    "        super().fe2()\n",
    "\n",
    "\n",
    "# A1 = B()\n",
    "C1 = C() \n",
    "C1.feat() \n",
    "#? OUTPUT \n",
    "#? in A init -- we are biase here - diReCtion (left to right ) so we get A                         A     B\n",
    "#? in C in it                                                                                         C\n"
   ]
  },
  {
   "cell_type": "markdown",
   "id": "7b1e4f6d",
   "metadata": {},
   "source": [
    "#### Polymorphism \n",
    "- Duck Typing\n",
    "- Operator Overloading\n",
    "- Method Overloading\n",
    "- Operator Overriding"
   ]
  },
  {
   "cell_type": "code",
   "execution_count": 65,
   "id": "69ab03cb",
   "metadata": {},
   "outputs": [
    {
     "name": "stdout",
     "output_type": "stream",
     "text": [
      "1\n"
     ]
    }
   ],
   "source": [
    "#! Duck Typing\n",
    "print(1)\n"
   ]
  }
 ],
 "metadata": {
  "kernelspec": {
   "display_name": ".venv",
   "language": "python",
   "name": "python3"
  },
  "language_info": {
   "codemirror_mode": {
    "name": "ipython",
    "version": 3
   },
   "file_extension": ".py",
   "mimetype": "text/x-python",
   "name": "python",
   "nbconvert_exporter": "python",
   "pygments_lexer": "ipython3",
   "version": "3.13.0"
  }
 },
 "nbformat": 4,
 "nbformat_minor": 5
}
