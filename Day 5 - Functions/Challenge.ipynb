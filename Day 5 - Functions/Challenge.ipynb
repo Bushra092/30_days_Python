{
 "cells": [
  {
   "cell_type": "markdown",
   "id": "042612b5",
   "metadata": {},
   "source": [
    "### 🎯 **Challenge** \n",
    "- Write a function that computes the sum and average of a list of numbers"
   ]
  },
  {
   "cell_type": "code",
   "execution_count": 17,
   "id": "09622cdf",
   "metadata": {},
   "outputs": [
    {
     "name": "stdout",
     "output_type": "stream",
     "text": [
      "sum of list is: 57\n",
      "average of list is: 14.25\n"
     ]
    }
   ],
   "source": [
    "list1 = [12,14,15,16]\n",
    "\n",
    "def sum(nums):\n",
    "    sum = 0\n",
    "    for i in nums:\n",
    "        sum += i\n",
    "    return sum \n",
    "\n",
    "def average(total,len):\n",
    "    return total/len   \n",
    "\n",
    "addition = sum(list1)\n",
    "print(f\"sum of list is: {addition}\")\n",
    "print(f\"average of list is: {average(addition, len(list1))}\")\n",
    "\n"
   ]
  },
  {
   "cell_type": "markdown",
   "id": "39f8384e",
   "metadata": {},
   "source": []
  }
 ],
 "metadata": {
  "kernelspec": {
   "display_name": ".venv",
   "language": "python",
   "name": "python3"
  },
  "language_info": {
   "codemirror_mode": {
    "name": "ipython",
    "version": 3
   },
   "file_extension": ".py",
   "mimetype": "text/x-python",
   "name": "python",
   "nbconvert_exporter": "python",
   "pygments_lexer": "ipython3",
   "version": "3.13.0"
  }
 },
 "nbformat": 4,
 "nbformat_minor": 5
}
