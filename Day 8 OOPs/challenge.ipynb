{
 "cells": [
  {
   "cell_type": "markdown",
   "id": "45a8e9ce",
   "metadata": {},
   "source": [
    "#### 🎯 **Challenge** \n",
    "- Create a car class with attributes and display methods"
   ]
  },
  {
   "cell_type": "code",
   "execution_count": 16,
   "id": "e869e15a",
   "metadata": {},
   "outputs": [
    {
     "name": "stdout",
     "output_type": "stream",
     "text": [
      "Car confi\n",
      "jet blcak Mercedece-Benz\n",
      "Engine started..........\n",
      "______________________________________\n",
      "\n",
      "Car confi\n",
      "Midnight blue BMW\n",
      "break!!!!\n",
      "______________________________________\n",
      "\n"
     ]
    }
   ],
   "source": [
    "class car:\n",
    "\n",
    "    def __init__(self, color, brand):\n",
    "        self.color = color\n",
    "        self.brand = brand\n",
    "\n",
    "    def start_engine(self):\n",
    "        print('Car confi')\n",
    "        print(self.color, self.brand)\n",
    "        print(\"Engine started..........\")\n",
    "        print('______________________________________\\n')\n",
    "\n",
    "    def apply_break(self):\n",
    "        print('Car confi')\n",
    "        print(self.color, self.brand)\n",
    "        print(\"break!!!!\")  \n",
    "        print('______________________________________\\n')\n",
    "\n",
    "vehicle1 = car('jet blcak', 'Mercedece-Benz')\n",
    "vehicle1.start_engine() \n",
    "\n",
    "vehicle2 = car('Midnight blue', 'BMW')\n",
    "vehicle2.apply_break()\n"
   ]
  }
 ],
 "metadata": {
  "kernelspec": {
   "display_name": ".venv",
   "language": "python",
   "name": "python3"
  },
  "language_info": {
   "codemirror_mode": {
    "name": "ipython",
    "version": 3
   },
   "file_extension": ".py",
   "mimetype": "text/x-python",
   "name": "python",
   "nbconvert_exporter": "python",
   "pygments_lexer": "ipython3",
   "version": "3.13.0"
  }
 },
 "nbformat": 4,
 "nbformat_minor": 5
}
