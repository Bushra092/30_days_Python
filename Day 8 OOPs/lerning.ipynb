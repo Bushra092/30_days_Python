{
 "cells": [
  {
   "cell_type": "markdown",
   "id": "f37b3c3e",
   "metadata": {},
   "source": [
    "### OOPs [Object Oriented Programming]\n",
    "- Class : design or blueprint of object \n",
    "- Object : real entity or instance   "
   ]
  },
  {
   "cell_type": "markdown",
   "id": "97939d7a",
   "metadata": {},
   "source": [
    "##### int, float, Bool are built-in type objects but if we want to create are own type - if want to create own type we need to create class\n",
    "\n",
    "*for ex i wanted to create computer type*\n",
    "\n",
    "class computer : \n",
    "-    Attributes ----> Variables\n",
    "-    Behaviour  ----> Methods(function) \n",
    "\n",
    "   \n",
    "\n",
    "\n",
    "   \n"
   ]
  },
  {
   "cell_type": "code",
   "execution_count": 9,
   "id": "774f8cd6",
   "metadata": {},
   "outputs": [
    {
     "name": "stdout",
     "output_type": "stream",
     "text": [
      "i5, 16gb, 1TB\n"
     ]
    }
   ],
   "source": [
    "class computer:\n",
    "    def configure():\n",
    "        print(\"i5, 16gb, 1TB\")\n",
    "\n",
    "#? Calling methods without self\n",
    "computer.configure()\n"
   ]
  },
  {
   "cell_type": "markdown",
   "id": "b1278444",
   "metadata": {},
   "source": [
    "#### Calling methods with self or constructor"
   ]
  },
  {
   "cell_type": "code",
   "execution_count": 10,
   "id": "44b8e0c1",
   "metadata": {},
   "outputs": [
    {
     "name": "stdout",
     "output_type": "stream",
     "text": [
      "<class '__main__.computer'>\n",
      "i5, 16gb, 1TB\n"
     ]
    }
   ],
   "source": [
    "class computer:\n",
    "    def configure(self):\n",
    "        print(\"i5, 16gb, 1TB\")\n",
    "\n",
    "\n",
    "#? a-- \n",
    "#! what is the type of a\n",
    "#? untill we assign a value to it ' a= 5 now type of a is integer'\n",
    "\n",
    "\n",
    "comp1 = computer() #object of computer \n",
    "print(type(comp1))  #? <class '__main__.computer'>\n",
    "\n",
    "\n",
    "#? Calling methods with self or constructor\n",
    "\n",
    "computer.configure(comp1)"
   ]
  },
  {
   "cell_type": "code",
   "execution_count": 16,
   "id": "a3d8033c",
   "metadata": {},
   "outputs": [
    {
     "name": "stdout",
     "output_type": "stream",
     "text": [
      "i5, 16gb, 1TB\n"
     ]
    }
   ],
   "source": [
    "comp2 = computer()\n",
    "\n",
    "computer.configure(comp2)"
   ]
  },
  {
   "cell_type": "markdown",
   "id": "d66ab648",
   "metadata": {},
   "source": [
    "#### Another calling method"
   ]
  },
  {
   "cell_type": "code",
   "execution_count": 28,
   "id": "e42bacf7",
   "metadata": {},
   "outputs": [
    {
     "name": "stdout",
     "output_type": "stream",
     "text": [
      "i5, 16gb, 1TB\n",
      "i5, 16gb, 1TB\n"
     ]
    }
   ],
   "source": [
    "#! behind the scene its conveting like this \n",
    "# comp2 = computer()\n",
    "# computer.configure(comp2)\n",
    "\n",
    "comp1.configure()\n",
    "comp2.configure()"
   ]
  },
  {
   "cell_type": "markdown",
   "id": "9139e845",
   "metadata": {},
   "source": [
    "#### lets create VARIABLE so far we created methods(functions) in class"
   ]
  },
  {
   "cell_type": "code",
   "execution_count": null,
   "id": "7f679fbb",
   "metadata": {},
   "outputs": [
    {
     "name": "stdout",
     "output_type": "stream",
     "text": [
      "in iT\n",
      "i5, 16gb, 1TB\n"
     ]
    }
   ],
   "source": [
    "class computer:\n",
    "\n",
    "    def __init__(self):  # itll be call automatically [its like constructor]\n",
    "        print('in iT')\n",
    "\n",
    "\n",
    "    def configure(self):\n",
    "        print(\"i5, 16gb, 1TB\")\n",
    "\n",
    "vari = computer() # object creation  \n",
    "vari.configure()  # calling method inside class"
   ]
  },
  {
   "cell_type": "markdown",
   "id": "b79f34a4",
   "metadata": {},
   "source": [
    "### how to pass **arguments**\n",
    "- at The time of object creation we can pass arguments and in __init__ we can assign it to variables"
   ]
  },
  {
   "cell_type": "code",
   "execution_count": null,
   "id": "5b047410",
   "metadata": {},
   "outputs": [
    {
     "name": "stdout",
     "output_type": "stream",
     "text": [
      "Configure is i5 16\n",
      "Configure is Razen3 9\n"
     ]
    }
   ],
   "source": [
    "class computer:\n",
    "\n",
    "    def __init__(self, ram, cpu):  # cpu and ram is arguments\n",
    "        self.ram = ram\n",
    "        self.cpu = cpu\n",
    "\n",
    "\n",
    "    def configure(self):\n",
    "        print(\"Configure is\", self.ram, self.cpu)\n",
    "\n",
    "vari = computer('i5',16) # object creation  \n",
    "vari.configure()  # calling method inside class\n",
    "\n",
    "\n",
    "vari2 = computer('Razen3', 9)\n",
    "vari2.configure()"
   ]
  },
  {
   "cell_type": "markdown",
   "id": "637cfae0",
   "metadata": {},
   "source": [
    "#### Constructor, self, and comparing object \n",
    "- __init__ is construtor\n"
   ]
  },
  {
   "cell_type": "code",
   "execution_count": null,
   "id": "8b10a108",
   "metadata": {},
   "outputs": [
    {
     "name": "stdout",
     "output_type": "stream",
     "text": [
      "2294907387392\n",
      "2294915439248\n"
     ]
    }
   ],
   "source": [
    "class computer:\n",
    "    def __init__(self):\n",
    "        pass\n",
    "    pass\n",
    "\n",
    "c1 = computer() # c1 is refering to object\n",
    "c2 = computer() \n",
    "print(id(c1)) # location in heap memory where class computer is store\n",
    "print(id(c2))"
   ]
  },
  {
   "cell_type": "code",
   "execution_count": null,
   "id": "1a52f65a",
   "metadata": {},
   "outputs": [
    {
     "name": "stdout",
     "output_type": "stream",
     "text": [
      "Ayesha 23\n",
      "Bushra 20\n"
     ]
    }
   ],
   "source": [
    "class computer:\n",
    "    def __init__(self):\n",
    "        self.name = \"Bushra\"\n",
    "        self.age = 20\n",
    "\n",
    "    def update(self):\n",
    "        self.age = 23\n",
    "\n",
    "    def compare(self, other): \n",
    "        #? here self is c1 as function poinitn c1.compare(c2) and c2 is parameter  \n",
    "        if self.age == other.age:\n",
    "            return True\n",
    "        else: False     \n",
    "    \n",
    "c1 = computer() \n",
    "c2 = computer()\n",
    "\n",
    "# Here we need not to called funtion as __init__ is construtor so its called automatically when object is creted\n",
    "c1.name = \"Ayesha\" # also we can change value\n",
    "\n",
    "c1.update()    # here in class we have update(self) self pointing to c1\n",
    "\n",
    "if c1.compare(c2): #? To run this first comment on c1.update()-- as its updating age variable- so this become falser \n",
    "    print(\"They are same\") \n",
    "\n",
    "print(c1.name, c1.age)\n",
    "print(c2.name, c2.age) \n"
   ]
  },
  {
   "cell_type": "markdown",
   "id": "50a71736",
   "metadata": {},
   "source": [
    "#### Types of **Variable in oops**\n",
    "- instance variable\n",
    "- class(Static) variable "
   ]
  },
  {
   "cell_type": "markdown",
   "metadata": {},
   "source": []
  },
  {
   "cell_type": "code",
   "execution_count": null,
   "id": "4585d22e",
   "metadata": {},
   "outputs": [],
   "source": []
  }
 ],
 "metadata": {
  "kernelspec": {
   "display_name": ".venv",
   "language": "python",
   "name": "python3"
  },
  "language_info": {
   "codemirror_mode": {
    "name": "ipython",
    "version": 3
   },
   "file_extension": ".py",
   "mimetype": "text/x-python",
   "name": "python",
   "nbconvert_exporter": "python",
   "pygments_lexer": "ipython3",
   "version": "3.13.0"
  }
 },
 "nbformat": 4,
 "nbformat_minor": 5
}
