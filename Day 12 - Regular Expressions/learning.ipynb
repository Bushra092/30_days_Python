{
 "cells": [
  {
   "cell_type": "markdown",
   "id": "6bbb906a",
   "metadata": {},
   "source": [
    "### **Regular Expressions**"
   ]
  },
  {
   "cell_type": "markdown",
   "id": "73fe3dc6",
   "metadata": {},
   "source": []
  }
 ],
 "metadata": {
  "language_info": {
   "name": "python"
  }
 },
 "nbformat": 4,
 "nbformat_minor": 5
}
