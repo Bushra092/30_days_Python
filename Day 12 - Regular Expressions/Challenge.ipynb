{
 "cells": [
  {
   "cell_type": "markdown",
   "id": "208746dc",
   "metadata": {},
   "source": [
    "### 🎯 Challenge\n",
    "- Validate gmail addresses using regex"
   ]
  },
  {
   "cell_type": "markdown",
   "id": "afd8521e",
   "metadata": {},
   "source": []
  }
 ],
 "metadata": {
  "language_info": {
   "name": "python"
  }
 },
 "nbformat": 4,
 "nbformat_minor": 5
}
