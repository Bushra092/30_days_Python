{
 "cells": [
  {
   "cell_type": "markdown",
   "id": "208746dc",
   "metadata": {},
   "source": [
    "### 🎯 Challenge\n",
    "- Validate gmail addresses using regex"
   ]
  },
  {
   "cell_type": "code",
   "execution_count": 36,
   "metadata": {},
   "outputs": [
    {
     "name": "stdout",
     "output_type": "stream",
     "text": [
      "Output\n",
      "_______________________________________________\n",
      "john.doe@gmail.com is valid ✅\n",
      "jane_doe123@gmail.com is valid ✅\n",
      "alias@gmail.com is valid ✅\n",
      "user2025@gmail.com is valid ✅\n",
      "first.last123@gmail.com is valid ✅\n",
      "6. @gmail.com is not a valid ❌\n",
      "name@gmail.com is valid ✅\n",
      "valid_email123@gmail.com is valid ✅\n",
      "9. user.name@googlemail.com is not a valid ❌\n",
      "USER.NAME@gmail.com is valid ✅\n",
      "11. username@gmail.co is not a valid ❌\n",
      "12. example.email@GMAIL.COM is not a valid ❌\n",
      "my_email@gmail.com is valid ✅\n",
      "123user@gmail.com is valid ✅\n",
      "15. user@ymail.com is not a valid ❌\n",
      "\n",
      "\n",
      "List of valid email \n",
      "_______________________________________________\n",
      "john.doe@gmail.com\n",
      "jane_doe123@gmail.com\n",
      "alias@gmail.com\n",
      "user2025@gmail.com\n",
      "first.last123@gmail.com\n",
      "name@gmail.com\n",
      "valid_email123@gmail.com\n",
      "USER.NAME@gmail.com\n",
      "my_email@gmail.com\n",
      "123user@gmail.com\n",
      "_______________________________________________\n"
     ]
    }
   ],
   "source": [
    "import re \n",
    "validMailList = []\n",
    "\n",
    "print(\"Output\\n_______________________________________________\")\n",
    "\n",
    "with open(\"fileContainEmails.txt\",\"r\") as emailFile:\n",
    "    # print(emailFile.readlines())\n",
    "\n",
    "    for i in emailFile:\n",
    "        line = i.strip() \n",
    "        pattern = r\"([A-Za-z0-9_.]+\\@gmail\\.com)\"\n",
    "        matches = re.findall(pattern,i)\n",
    "        if matches:\n",
    "            validMailList.append(matches)\n",
    "            print(f\"{matches[0]} is valid ✅\")\n",
    "        else:\n",
    "            print(f\"{line} is not a valid ❌\")\n",
    "\n",
    "print(\"\\n\\nList of valid email \\n_______________________________________________\")\n",
    "for i in validMailList:\n",
    "    print(i[0])\n",
    "\n",
    "print(\"_______________________________________________\")    "
   ]
  },
  {
   "cell_type": "markdown",
   "id": "90d1d58d",
   "metadata": {},
   "source": []
  }
 ],
 "metadata": {
  "kernelspec": {
   "display_name": ".venv",
   "language": "python",
   "name": "python3"
  },
  "language_info": {
   "codemirror_mode": {
    "name": "ipython",
    "version": 3
   },
   "file_extension": ".py",
   "mimetype": "text/x-python",
   "name": "python",
   "nbconvert_exporter": "python",
   "pygments_lexer": "ipython3",
   "version": "3.13.0"
  }
 },
 "nbformat": 4,
 "nbformat_minor": 5
}
