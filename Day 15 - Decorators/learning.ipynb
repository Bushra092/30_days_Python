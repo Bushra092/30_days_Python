{
 "cells": [
  {
   "cell_type": "markdown",
   "id": "295beaf9",
   "metadata": {},
   "source": [
    "### **Decorators**"
   ]
  },
  {
   "cell_type": "markdown",
   "id": "f2f4a24c",
   "metadata": {},
   "source": [
    "\n",
    "### ✅ What is a **Decorator** in Python?\n",
    "\n",
    "A **decorator** is a function that **modifies the behavior** of another function **without changing its code**.\n",
    "\n",
    "It's a powerful tool in Python used for:\n",
    "\n",
    "* **Code reuse**\n",
    "* **Logging**\n",
    "* **Access control**\n",
    "* **Timing functions**\n",
    "* And more!\n",
    "\n",
    "Think of a decorator like wrapping a gift — the original function is the gift, and the decorator is the wrapper that adds some extra feature.\n",
    "\n",
    " \n",
    "### 🎯 In Short:\n",
    "\n",
    "* A decorator **wraps** another function.\n",
    "* It **enhances or changes** its behavior.\n",
    "* Decorators use the `@` symbol just before the function definition.\n",
    "\n",
    "Would you like a real-world use case like logging, timing, or authentication next?\n"
   ]
  },
  {
   "cell_type": "code",
   "execution_count": 3,
   "id": "fe076fde",
   "metadata": {},
   "outputs": [
    {
     "name": "stdout",
     "output_type": "stream",
     "text": [
      "Before the original function runs.\n",
      "Hello!\n",
      "After the original function runs.\n"
     ]
    }
   ],
   "source": [
    "def decorator_function(original_function):\n",
    "    def wrapper_function():\n",
    "        print(\"Before the original function runs.\")\n",
    "        original_function()\n",
    "        print(\"After the original function runs.\")\n",
    "    return wrapper_function\n",
    "\n",
    "@decorator_function\n",
    "def say_hello():\n",
    "    print(\"Hello!\")\n",
    "\n",
    "say_hello()\n"
   ]
  },
  {
   "cell_type": "code",
   "execution_count": 23,
   "id": "f5c8b00a",
   "metadata": {},
   "outputs": [
    {
     "name": "stdout",
     "output_type": "stream",
     "text": [
      "2.0\n"
     ]
    }
   ],
   "source": [
    "\n",
    "def smart_div(func):\n",
    "    def inner(a,b):\n",
    "        if a < b :\n",
    "            a,b = b,a\n",
    "        return func(a,b)\n",
    "    return inner\n",
    "\n",
    "# div = smart_div(div)\n",
    "@smart_div\n",
    "def div(a,b):\n",
    "    print(a/b)\n",
    "\n",
    "\n",
    "div(2,4)"
   ]
  },
  {
   "cell_type": "markdown",
   "id": "70721b2d",
   "metadata": {},
   "source": [
    "### Practice Questions"
   ]
  },
  {
   "cell_type": "code",
   "execution_count": 27,
   "id": "1a75a643",
   "metadata": {},
   "outputs": [
    {
     "name": "stdout",
     "output_type": "stream",
     "text": [
      "HELLO\n",
      "HELLO\n",
      "HELLO\n"
     ]
    }
   ],
   "source": [
    "# 1. Repeat Decorator\n",
    "#? Write a decorator @repeat(n) that runs a function n times.\n",
    "\n",
    "def reapeat(n):\n",
    "    def decore(func):\n",
    "        def wrapper(*args, **kwargs):\n",
    "            for i in range(n):\n",
    "                func(*args, **kwargs)\n",
    "        return wrapper   \n",
    "    return decore\n",
    "\n",
    "\n",
    "@reapeat(3)\n",
    "def say_hello():\n",
    "    print(\"HELLO\")\n",
    "\n",
    "say_hello()\n",
    "\n",
    "\n",
    "\n"
   ]
  },
  {
   "cell_type": "code",
   "execution_count": 33,
   "id": "a3f97495",
   "metadata": {},
   "outputs": [
    {
     "data": {
      "text/plain": [
       "'HELLO BUSHRA'"
      ]
     },
     "execution_count": 33,
     "metadata": {},
     "output_type": "execute_result"
    }
   ],
   "source": [
    "# 2. Uppercase Decorator\n",
    "#? Write a decorator that converts the result of a function to uppercase.\n",
    "\n",
    "def make_uppercase(func):\n",
    "    def wrapper(*args, **kwargs):\n",
    "        reult = func(*args, **kwargs)\n",
    "        return reult.upper()\n",
    "    return wrapper\n",
    "\n",
    "\n",
    "@make_uppercase\n",
    "def greet(name):\n",
    "    return f\"hello {name}\"\n",
    "\n",
    "greet('Bushra')"
   ]
  },
  {
   "cell_type": "code",
   "execution_count": 37,
   "id": "6c7f1118",
   "metadata": {},
   "outputs": [
    {
     "name": "stdout",
     "output_type": "stream",
     "text": [
      "arguments are: 5 and 10 \n",
      "Addition is 15\n"
     ]
    }
   ],
   "source": [
    "# 3. Logging Decorator\n",
    "#? Create a decorator that logs the function name and its arguments before calling it.\n",
    "\n",
    "def log_function(func):\n",
    "    def wrapper(*args, **kwargs):\n",
    "        result = args        \n",
    "        print(f\"arguments are: {result[0]} and {result[1]} \")        \n",
    "        Added =  func(*args, **kwargs)        \n",
    "        return Added\n",
    "\n",
    "    return wrapper    \n",
    "\n",
    "@log_function\n",
    "def add(a, b):\n",
    "    return a + b\n",
    "\n",
    "print(\"Addition is\",add(5,10))"
   ]
  },
  {
   "cell_type": "code",
   "execution_count": 41,
   "id": "8e11a892",
   "metadata": {},
   "outputs": [
    {
     "name": "stdout",
     "output_type": "stream",
     "text": [
      "Done\n",
      "2.001009464263916\n"
     ]
    },
    {
     "data": {
      "text/plain": [
       "-1747879391105.252"
      ]
     },
     "execution_count": 41,
     "metadata": {},
     "output_type": "execute_result"
    }
   ],
   "source": [
    "# 4. Execution Timer\n",
    "#? Write a decorator that measures how long a function takes to run.\n",
    "import time\n",
    "\n",
    "def timer(fun):\n",
    "    def wrapper(*args, **kwargs):\n",
    "\n",
    "        timeS = time.time()\n",
    "\n",
    "        fun(*args, **kwargs)\n",
    "\n",
    "        timeE = time.time()\n",
    "        result = (timeE - timeS) \n",
    "        print(result)\n",
    "        return timeE - timeS *1000\n",
    "    return wrapper\n",
    "\n",
    "@timer\n",
    "def slow_function():\n",
    "    time.sleep(2)\n",
    "    print(\"Done\")\n",
    "\n",
    "slow_function()    \n"
   ]
  },
  {
   "cell_type": "code",
   "execution_count": 46,
   "id": "e053d3d1",
   "metadata": {},
   "outputs": [
    {
     "name": "stdout",
     "output_type": "stream",
     "text": [
      "Database deleted.\n"
     ]
    }
   ],
   "source": [
    "# 5. Check Admin Access\n",
    "#? Create a decorator that only allows a function to run if user['is_admin'] == True.\n",
    "\n",
    "# Let's assume we have a user dict\n",
    "user = {\n",
    "    'name': 'Bushra',\n",
    "    'is_admin': True  # Try changing this to True to test\n",
    "}\n",
    "\n",
    "def admin_only(func):\n",
    "    def wrapper(*args, **kwargs):\n",
    "        if user.get('is_admin'):  # Check admin access\n",
    "            return func(*args, **kwargs)\n",
    "        else:\n",
    "            print(\"Access denied: Admins only.\")\n",
    "    return wrapper\n",
    "\n",
    "@admin_only\n",
    "def delete_database():\n",
    "    print(\"Database deleted.\")\n",
    "\n",
    "delete_database()\n"
   ]
  },
  {
   "cell_type": "code",
   "execution_count": null,
   "id": "daedf3c6",
   "metadata": {},
   "outputs": [],
   "source": []
  }
 ],
 "metadata": {
  "kernelspec": {
   "display_name": ".venv",
   "language": "python",
   "name": "python3"
  },
  "language_info": {
   "codemirror_mode": {
    "name": "ipython",
    "version": 3
   },
   "file_extension": ".py",
   "mimetype": "text/x-python",
   "name": "python",
   "nbconvert_exporter": "python",
   "pygments_lexer": "ipython3",
   "version": "3.13.0"
  }
 },
 "nbformat": 4,
 "nbformat_minor": 5
}
