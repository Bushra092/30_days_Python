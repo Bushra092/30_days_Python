{
 "cells": [
  {
   "cell_type": "markdown",
   "id": "27fdcffc",
   "metadata": {},
   "source": [
    "### 🎯 Challenge\n",
    "- Create a **decorator** to **log function execution time**"
   ]
  },
  {
   "cell_type": "code",
   "execution_count": null,
   "id": "da638937",
   "metadata": {},
   "outputs": [
    {
     "name": "stdout",
     "output_type": "stream",
     "text": [
      "adding - Execution Time 0.008106231689453125 sec\n",
      "After Adding a,b : 7\n",
      "substract - Execution Time 0.0019073486328125 sec\n",
      "After substract a,b : 9995\n"
     ]
    }
   ],
   "source": [
    "import time\n",
    "\n",
    "def time_execution(fun):\n",
    "    def wrapper(*args , **kwargs):\n",
    "        start = time.time()\n",
    "        result =  fun(*args , **kwargs)\n",
    "        end = time.time()\n",
    "        diff = (end - start) * 1000\n",
    "        print(f\"{fun.__name__} - Execution Time {diff} sec\")\n",
    "        return result\n",
    "    return wrapper    \n",
    "\n",
    "@time_execution\n",
    "def adding(a,b): \n",
    "    return a+b\n",
    "\n",
    "@time_execution\n",
    "def substract(a,b): \n",
    "    return a-b\n",
    "\n",
    "print(f\"After Adding a,b : {adding(2,5)}\")\n",
    "print(f\"After substract a,b : {substract(10000,5)}\")"
   ]
  },
  {
   "cell_type": "code",
   "execution_count": null,
   "id": "d9499c5c",
   "metadata": {},
   "outputs": [],
   "source": []
  }
 ],
 "metadata": {
  "kernelspec": {
   "display_name": ".venv",
   "language": "python",
   "name": "python3"
  },
  "language_info": {
   "codemirror_mode": {
    "name": "ipython",
    "version": 3
   },
   "file_extension": ".py",
   "mimetype": "text/x-python",
   "name": "python",
   "nbconvert_exporter": "python",
   "pygments_lexer": "ipython3",
   "version": "3.13.0"
  }
 },
 "nbformat": 4,
 "nbformat_minor": 5
}
