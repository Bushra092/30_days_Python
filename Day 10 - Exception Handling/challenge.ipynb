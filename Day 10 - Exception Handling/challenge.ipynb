{
 "cells": [
  {
   "cell_type": "markdown",
   "id": "08c6d731",
   "metadata": {},
   "source": [
    "### 🎯 **Challenge**\n",
    "- Read numbers from a file and handle errors gracefully"
   ]
  },
  {
   "cell_type": "code",
   "execution_count": null,
   "id": "782cfe96",
   "metadata": {},
   "outputs": [],
   "source": [
    "def Read_numbers_file(filename):\n",
    "    nums =[]\n",
    "    try:\n",
    "        with open(filename, \"r\") as file_1:\n",
    "            for i in file_1:\n",
    "                # print(i)\n",
    "                for word in i.split():\n",
    "                    try:\n",
    "                        num = float(word)\n",
    "                        nums.append(word)\n",
    "                        \n",
    "                        print(f\"{word} - this is numbers\")\n",
    "                    except Exception as e:\n",
    "                        print(f\"could not convert {word} into numbers\")  \n",
    "        print(\"_________________________________\")\n",
    "        print(f\"List of numbers in file\\n{nums}\")     \n",
    "        print(\"_________________________________\")                   \n",
    "    \n",
    "        \n",
    "    except FileNotFoundError as e:\n",
    "        print(f\"No such file or directory - {filename}\")   \n",
    "    finally:\n",
    "        print(\"End of the Program\")\n",
    "        "
   ]
  },
  {
   "cell_type": "markdown",
   "id": "5d4ef7b5",
   "metadata": {},
   "source": [
    "### ***Output***"
   ]
  },
  {
   "cell_type": "code",
   "execution_count": 186,
   "id": "c2876a6a",
   "metadata": {},
   "outputs": [
    {
     "name": "stdout",
     "output_type": "stream",
     "text": [
      "42 - this is numbers\n",
      "314 - this is numbers\n",
      "-7.5 - this is numbers\n",
      "0 - this is numbers\n",
      "could not convert hello into numbers\n",
      "8.0 - this is numbers\n",
      "-999 - this is numbers\n",
      "could not convert abc123 into numbers\n",
      "2e2 - this is numbers\n",
      "could not convert None into numbers\n",
      "could not convert 3+4j into numbers\n",
      "_________________________________\n",
      "List of numbers in file\n",
      "['42', '314', '-7.5', '0', '8.0', '-999', '2e2']\n",
      "_________________________________\n",
      "End of the Program\n"
     ]
    }
   ],
   "source": [
    "\n",
    "#? Output 1: **List of numbers in file**\n",
    "Read_numbers_file(\"challenge10.txt\")"
   ]
  },
  {
   "cell_type": "code",
   "execution_count": 184,
   "id": "763a82c2",
   "metadata": {},
   "outputs": [
    {
     "name": "stdout",
     "output_type": "stream",
     "text": [
      "No such file or directory - challengssde10.txt\n",
      "End of the Program\n"
     ]
    }
   ],
   "source": [
    "\n",
    "#? Output 2: **File not found**\n",
    "Read_numbers_file(\"challengssde10.txt\")"
   ]
  },
  {
   "cell_type": "code",
   "execution_count": null,
   "id": "6f489e99",
   "metadata": {},
   "outputs": [],
   "source": []
  },
  {
   "cell_type": "markdown",
   "id": "12eee9c2",
   "metadata": {},
   "source": []
  },
  {
   "cell_type": "markdown",
   "id": "38849f97",
   "metadata": {},
   "source": []
  },
  {
   "cell_type": "markdown",
   "id": "f32f70e4",
   "metadata": {},
   "source": []
  },
  {
   "cell_type": "markdown",
   "id": "84e9e486",
   "metadata": {},
   "source": []
  }
 ],
 "metadata": {
  "kernelspec": {
   "display_name": ".venv",
   "language": "python",
   "name": "python3"
  },
  "language_info": {
   "codemirror_mode": {
    "name": "ipython",
    "version": 3
   },
   "file_extension": ".py",
   "mimetype": "text/x-python",
   "name": "python",
   "nbconvert_exporter": "python",
   "pygments_lexer": "ipython3",
   "version": "3.13.0"
  }
 },
 "nbformat": 4,
 "nbformat_minor": 5
}
