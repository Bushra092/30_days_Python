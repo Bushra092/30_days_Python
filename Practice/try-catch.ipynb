{
 "cells": [
  {
   "cell_type": "markdown",
   "id": "06437d36",
   "metadata": {},
   "source": [
    "\n",
    "\n",
    "### ✅ 1. Convert user input to integer safely\n",
    "\n",
    "**Task:**\n",
    "Ask the user to enter a number. If they enter something that’s not a valid number, catch the error and print `\"Invalid number\"`.\n",
    "\n",
    "**Goal:** Practice catching `ValueError`.\n",
    "\n",
    "\n"
   ]
  },
  {
   "cell_type": "code",
   "execution_count": 72,
   "id": "64b707cc",
   "metadata": {},
   "outputs": [
    {
     "name": "stdout",
     "output_type": "stream",
     "text": [
      "Entered number is : 25  real-number\n"
     ]
    }
   ],
   "source": [
    "\n",
    "user_input = input(\"Enter a number\")\n",
    "try:\n",
    "    num = float(user_input)\n",
    "    print(f\"Entered number is : {user_input}  real-number\")\n",
    "except ValueError as e:\n",
    "    print(F\"Invalid number {user_input} \")\n",
    "\n",
    "except Exception as e :\n",
    "    print(e)           \n",
    "    "
   ]
  },
  {
   "cell_type": "markdown",
   "id": "ed3ec54d",
   "metadata": {},
   "source": [
    "--- \n",
    "\n",
    "### ✅ 2. Divide two numbers with zero check\n",
    "\n",
    "**Task:**\n",
    "Write a function that divides two numbers. Use `try-except` to handle:\n",
    "\n",
    "* Division by zero\n",
    "* Invalid inputs (like strings)\n",
    "\n",
    "**Goal:** Practice `ZeroDivisionError` and `ValueError`.\n"
   ]
  },
  {
   "cell_type": "code",
   "execution_count": 99,
   "id": "90ee8cb4",
   "metadata": {},
   "outputs": [
    {
     "name": "stdout",
     "output_type": "stream",
     "text": [
      "division 5.0\n"
     ]
    }
   ],
   "source": [
    "\n",
    "try:\n",
    "    num1 = int(input(\"Enter a number\"))\n",
    "    num2 = int(input(\"Enter second number\"))\n",
    "\n",
    "    divide = num1/ num2\n",
    "    print(\"division\", divide)\n",
    "except ZeroDivisionError as e:\n",
    "    print(\"Cant divided by Zero\")   \n",
    "except ValueError as e:\n",
    "    print(\"Value Error\")     \n"
   ]
  },
  {
   "cell_type": "markdown",
   "id": "b68f759a",
   "metadata": {},
   "source": [
    "\n",
    "---\n",
    "\n",
    "### ✅ 3. File reading with file-not-found handling\n",
    "\n",
    "**Task:**\n",
    "Try to open a file (e.g., `\"data.txt\"`). If the file doesn’t exist, print `\"File not found\"`.\n",
    "\n",
    "**Goal:** Practice `FileNotFoundError`.\n"
   ]
  },
  {
   "cell_type": "code",
   "execution_count": 108,
   "id": "2ba8766c",
   "metadata": {},
   "outputs": [
    {
     "name": "stdout",
     "output_type": "stream",
     "text": [
      "File not Found\n"
     ]
    }
   ],
   "source": [
    "try:\n",
    "    with open(\"FILE1.txt\", \"r\") as file:\n",
    "        fileContent = file.readlines()\n",
    "        print(fileContent)\n",
    "\n",
    "except FileNotFoundError as e:\n",
    "    print(\"File not Found\")\n",
    "        "
   ]
  },
  {
   "cell_type": "markdown",
   "id": "789b9d4d",
   "metadata": {},
   "source": [
    "\n",
    "---\n",
    "\n",
    "### ✅ 4. List index access safely\n",
    "\n",
    "**Task:**\n",
    "Given a list of 5 items, ask the user for an index number. Try to print the item at that index. If the index is out of range or invalid, handle it.\n",
    "\n",
    "**Goal:** Practice `IndexError` and `ValueError`.\n"
   ]
  },
  {
   "cell_type": "code",
   "execution_count": 118,
   "id": "edf347d7",
   "metadata": {},
   "outputs": [
    {
     "name": "stdout",
     "output_type": "stream",
     "text": [
      "Value does not exsits\n"
     ]
    }
   ],
   "source": [
    "lists = [1,2,3,4,5]\n",
    "\n",
    "try:\n",
    "    index = int(input(\"Enter Index to see the item\"))\n",
    "    print(f\" index you provide:{index},\\n {lists}\\n{lists[index]}\")\n",
    "except IndexError as e:\n",
    "    print(\"index not found\")\n",
    "except ValueError as e:\n",
    "    print('Value does not exsits')"
   ]
  },
  {
   "cell_type": "markdown",
   "id": "0047d1c4",
   "metadata": {},
   "source": [
    "\n",
    "---\n",
    "\n",
    "### ✅ 5. Convert a list of strings to floats\n",
    "\n",
    "**Task:**\n",
    "Given a list like `[\"12.5\", \"abc\", \"42\", \"3.14\"]`, loop through it and convert to floats. Use `try-except` to skip non-numeric values and print only the valid ones.\n",
    "\n",
    "**Goal:** Practice looping + `try-except` inside the loop.\n",
    "\n",
    "\n"
   ]
  },
  {
   "cell_type": "code",
   "execution_count": 126,
   "id": "9c87c4dd",
   "metadata": {},
   "outputs": [
    {
     "name": "stdout",
     "output_type": "stream",
     "text": [
      "12.5\n",
      "Could not convert 'abc' to float: could not convert string to float: 'abc'\n",
      "42.0\n",
      "3.14\n",
      "['12.5', '42', '3.14']\n"
     ]
    }
   ],
   "source": [
    "lists = [\"12.5\", \"abc\", \"42\", \"3.14\"]\n",
    "\n",
    "list_num = []\n",
    "\n",
    "for i in lists:\n",
    "    try:\n",
    "        num = float(i)\n",
    "        list_num.append(i)\n",
    "        print(num)\n",
    "    except Exception as e:\n",
    "        print(f\"Could not convert '{i}' to float: {e}\")\n",
    "\n",
    "print(list_num)        \n",
    "    \n"
   ]
  }
 ],
 "metadata": {
  "kernelspec": {
   "display_name": ".venv",
   "language": "python",
   "name": "python3"
  },
  "language_info": {
   "codemirror_mode": {
    "name": "ipython",
    "version": 3
   },
   "file_extension": ".py",
   "mimetype": "text/x-python",
   "name": "python",
   "nbconvert_exporter": "python",
   "pygments_lexer": "ipython3",
   "version": "3.13.0"
  }
 },
 "nbformat": 4,
 "nbformat_minor": 5
}
