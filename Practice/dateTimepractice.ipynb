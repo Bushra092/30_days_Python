{
 "cells": [
  {
   "cell_type": "code",
   "execution_count": 2,
   "id": "35173a4c",
   "metadata": {},
   "outputs": [],
   "source": [
    "import datetime"
   ]
  },
  {
   "cell_type": "code",
   "execution_count": 3,
   "id": "b4bccef3",
   "metadata": {},
   "outputs": [
    {
     "name": "stdout",
     "output_type": "stream",
     "text": [
      "2025-06-07\n",
      "2025\n",
      "5\n",
      "6\n"
     ]
    }
   ],
   "source": [
    "tday = datetime.date.today() #? returns current date\n",
    "print(tday) #? Current date [2025-06-07]\n",
    "print(tday.year)  #? Current year [2025]\n",
    "print(tday.weekday())  #? week day 5  [monday-0 Sunday-6]\n",
    "print(tday.isoweekday())  #? week day 6 [monday-1 Sunday-7]"
   ]
  },
  {
   "cell_type": "code",
   "execution_count": null,
   "id": "32cf57f3",
   "metadata": {},
   "outputs": [],
   "source": []
  },
  {
   "cell_type": "markdown",
   "id": "4c5a8764",
   "metadata": {},
   "source": [
    "### **Timedelta** -  diff between 2 dates and time"
   ]
  },
  {
   "cell_type": "code",
   "execution_count": 15,
   "id": "c2b452c8",
   "metadata": {},
   "outputs": [
    {
     "name": "stdout",
     "output_type": "stream",
     "text": [
      "2025-05-18\n",
      "223 days, 0:00:00\n",
      "223\n",
      "19267200.0\n"
     ]
    }
   ],
   "source": [
    "tdelta = datetime.timedelta(days=20)\n",
    "\n",
    "todayInTimeDetla = datetime.date.today() #? returns current date\n",
    "\n",
    "#? What is date would be after 7 days\n",
    "\n",
    "print(todayInTimeDetla-tdelta)\n",
    "\n",
    "#?! how many dates form my birthday\n",
    "\n",
    "bday = datetime.date(2026,1,16)\n",
    "\n",
    "tillbdate = bday - todayInTimeDetla\n",
    "print(tillbdate) #? 223 days, 0:00:00\n",
    "print(tillbdate.days) #? 223\n",
    "print(tillbdate.total_seconds()) #? 19267200.0\n",
    "\n"
   ]
  },
  {
   "cell_type": "code",
   "execution_count": 18,
   "id": "23af4067",
   "metadata": {},
   "outputs": [
    {
     "name": "stdout",
     "output_type": "stream",
     "text": [
      "9\n"
     ]
    }
   ],
   "source": [
    "t = datetime.time(9,30,45,10000)\n",
    "print(t.hour)"
   ]
  },
  {
   "cell_type": "code",
   "execution_count": null,
   "id": "1308c785",
   "metadata": {},
   "outputs": [],
   "source": []
  }
 ],
 "metadata": {
  "kernelspec": {
   "display_name": ".venv",
   "language": "python",
   "name": "python3"
  },
  "language_info": {
   "codemirror_mode": {
    "name": "ipython",
    "version": 3
   },
   "file_extension": ".py",
   "mimetype": "text/x-python",
   "name": "python",
   "nbconvert_exporter": "python",
   "pygments_lexer": "ipython3",
   "version": "3.13.0"
  }
 },
 "nbformat": 4,
 "nbformat_minor": 5
}
